{
 "cells": [
  {
   "cell_type": "code",
   "execution_count": 1,
   "metadata": {
    "collapsed": true,
    "ExecuteTime": {
     "end_time": "2023-11-01T13:29:27.291198600Z",
     "start_time": "2023-11-01T13:29:19.319431600Z"
    }
   },
   "outputs": [],
   "source": [
    "import pandas as pd\n",
    "import tensorflow as tf\n",
    "import numpy as np\n",
    "import matplotlib.pyplot as plt\n",
    "from sklearn.model_selection import train_test_split\n",
    "from keras.models import Sequential\n",
    "from keras.layers import Conv1D, MaxPooling1D, Flatten, Dense, InputLayer\n",
    "import random\n",
    "import os\n",
    "import math\n",
    "import pylab as p\n",
    "import seaborn as sns\n",
    "from datetime import datetime, timedelta\n",
    "import string"
   ]
  },
  {
   "cell_type": "code",
   "execution_count": 14,
   "outputs": [],
   "source": [
    "file_path_volts1 = r\".\\dataset\\H4\\Testing_09_19_1348038001\\LF1V.csv\"\n",
    "file_path_amps1 = r\".\\dataset\\H4\\Testing_09_19_1348038001\\LF1I.csv\"\n",
    "file_path_time_ticks1 = r\".\\dataset\\H4\\Testing_09_19_1348038001\\TimeTicks1.csv\"\n",
    "\n",
    "file_path_volts2 = r\".\\dataset\\H4\\Testing_09_19_1348038001\\LF2V.csv\"\n",
    "file_path_amps2 = r\".\\dataset\\H4\\Testing_09_19_1348038001\\LF2I.csv\"\n",
    "file_path_time_ticks2 = r\".\\dataset\\H4\\Testing_09_19_1348038001\\TimeTicks2.csv\"\n",
    "\n",
    "LF1V = pd.read_csv(file_path_volts1)\n",
    "LF1I = pd.read_csv(file_path_amps1)\n",
    "time_ticks1 = pd.read_csv(file_path_time_ticks1)\n",
    "\n",
    "LF2V = pd.read_csv(file_path_volts2)\n",
    "LF2I = pd.read_csv(file_path_amps2)\n",
    "time_ticks2 = pd.read_csv(file_path_time_ticks2)"
   ],
   "metadata": {
    "collapsed": false,
    "ExecuteTime": {
     "end_time": "2023-11-01T17:17:06.241381700Z",
     "start_time": "2023-11-01T17:17:06.177612700Z"
    }
   }
  },
  {
   "cell_type": "code",
   "execution_count": 15,
   "outputs": [],
   "source": [
    "LF1V = np.array(LF1V)\n",
    "LF1I = np.array(LF1I)\n",
    "LF1V = np.array([[complex(y.replace(\"i\", \"j\")) for y in x] for x in LF1V])\n",
    "LF1I = np.array([[complex(y.replace(\"i\", \"j\")) for y in x] for x in LF1I])\n",
    "\n",
    "LF2V = np.array(LF2V)\n",
    "LF2I = np.array(LF2I)\n",
    "LF2V = np.array([[complex(y.replace(\"i\", \"j\")) for y in x] for x in LF2V])\n",
    "LF2I = np.array([[complex(y.replace(\"i\", \"j\")) for y in x] for x in LF2I])"
   ],
   "metadata": {
    "collapsed": false,
    "ExecuteTime": {
     "end_time": "2023-11-01T13:30:22.852535200Z",
     "start_time": "2023-11-01T13:29:57.180682600Z"
    }
   }
  },
  {
   "cell_type": "code",
   "execution_count": 16,
   "outputs": [],
   "source": [
    "L1_P = LF1V * np.conjugate(LF1I)\n",
    "L2_P = LF2V * np.conjugate(LF2I)\n",
    "\n",
    "L1_ComplexPower = np.sum(L1_P, axis=1)\n",
    "L2_ComplexPower = np.sum(L2_P, axis=1)\n",
    "\n",
    "L1_real = np.real(L1_ComplexPower)\n",
    "L1_imag = np.imag(L1_ComplexPower)\n",
    "L1_app = np.abs(L1_ComplexPower)\n",
    "\n",
    "L2_real = np.real(L2_ComplexPower)\n",
    "L2_imag = np.imag(L2_ComplexPower)\n",
    "L2_app = np.abs(L2_ComplexPower)\n",
    "\n",
    "L1_Pf = np.cos(np.angle(L1_P[:, 0]))\n",
    "L2_Pf = np.cos(np.angle(L2_P[:, 0]))\n",
    "\n",
    "L1_actual_power = L1_real * L1_Pf\n",
    "L2_actual_power = L2_real * L2_Pf"
   ],
   "metadata": {
    "collapsed": false
   }
  },
  {
   "cell_type": "code",
   "execution_count": 17,
   "outputs": [],
   "source": [
    "time_ticks1_datetime = pd.to_datetime(time_ticks1.iloc[:, 0], unit='s')\n",
    "time_ticks1_np = np.array(time_ticks1)\n",
    "TS1_real = np.array(time_ticks1_datetime)\n",
    "\n",
    "time_ticks2_datetime = pd.to_datetime(time_ticks2.iloc[:, 0], unit='s')\n",
    "time_ticks2_np = np.array(time_ticks2)\n",
    "TS2_real = np.array(time_ticks2_datetime)"
   ],
   "metadata": {
    "collapsed": false
   }
  },
  {
   "cell_type": "code",
   "execution_count": 6,
   "outputs": [],
   "source": [
    "data = pd.DataFrame()\n",
    "len = min(len(L1_actual_power), len(L2_actual_power))\n",
    "\n",
    "data[\"Phase1_actual\"] = L1_actual_power[:len]\n",
    "data[\"Phase1_real\"] = L1_real[:len]\n",
    "data[\"Phase1_img\"] = L1_imag[:len]\n",
    "data[\"Phase1_app\"] = L1_app[:len]\n",
    "data[\"Phase1_time\"] = time_ticks1_np[:len]\n",
    "\n",
    "data[\"Phase2_actual\"] = L2_actual_power[:len]\n",
    "data[\"Phase2_real\"] = L2_real[:len]\n",
    "data[\"Phase2_img\"] = L2_imag[:len]\n",
    "data[\"Phase2_app\"] = L2_app[:len]\n",
    "data[\"Phase2_time\"] = time_ticks2_np[:len]"
   ],
   "metadata": {
    "collapsed": false
   }
  },
  {
   "cell_type": "markdown",
   "source": [
    "# Event detection"
   ],
   "metadata": {
    "collapsed": false
   }
  },
  {
   "cell_type": "markdown",
   "source": [
    "### Smooth the data a little bit"
   ],
   "metadata": {
    "collapsed": false
   }
  },
  {
   "cell_type": "code",
   "execution_count": 7,
   "outputs": [],
   "source": [
    "def moving_average(array, window):\n",
    "    moving_avg = np.convolve(array, np.ones(window) / window, mode='valid')\n",
    "    return moving_avg"
   ],
   "metadata": {
    "collapsed": false
   }
  },
  {
   "cell_type": "markdown",
   "source": [
    "### Normalize the data"
   ],
   "metadata": {
    "collapsed": false
   }
  },
  {
   "cell_type": "code",
   "execution_count": 8,
   "outputs": [],
   "source": [
    "def normalize(array):\n",
    "    min_val = np.min(array)\n",
    "    max_val = np.max(array)\n",
    "    normalized_array = (array - min_val) / (max_val - min_val)\n",
    "    return normalized_array"
   ],
   "metadata": {
    "collapsed": false
   }
  },
  {
   "cell_type": "markdown",
   "source": [
    "### CUSUM"
   ],
   "metadata": {
    "collapsed": false
   }
  },
  {
   "cell_type": "code",
   "execution_count": 9,
   "outputs": [],
   "source": [
    "def detect_cusum(array, threshold, drift):\n",
    "    sum_positive = np.zeros(array.size)\n",
    "    sum_negative = np.zeros(array.size)\n",
    "    event_index_start = np.array([[], [], []], dtype=int)\n",
    "    event_index_end = np.array([[], [], []], dtype=int)\n",
    "\n",
    "    for i in range(1, array.size):\n",
    "        sum = array[i] - array[i - 1]\n",
    "\n",
    "        # sums for positive/negative changes\n",
    "        sum_positive[i] = max(0, sum_positive[i - 1] + sum - drift)\n",
    "        sum_negative[i] = max(0, sum_negative[i - 1] - sum - drift)\n",
    "\n",
    "        # if a change is detected\n",
    "        if sum_positive[i] > threshold:\n",
    "            event_index_start = np.append(event_index_start, i)\n",
    "            sum_positive[i], sum_negative[i] = 0, 0\n",
    "            continue\n",
    "\n",
    "        if sum_negative[i] > threshold:\n",
    "            event_index_end = np.append(event_index_end, i)\n",
    "            sum_positive[i], sum_negative[i] = 0, 0\n",
    "\n",
    "    return event_index_start, event_index_end"
   ],
   "metadata": {
    "collapsed": false
   }
  },
  {
   "cell_type": "markdown",
   "source": [
    "### Since this algorithm tends to over detect, we have to clean the output a little bit"
   ],
   "metadata": {
    "collapsed": false
   }
  },
  {
   "cell_type": "code",
   "execution_count": 10,
   "outputs": [],
   "source": [
    "def filter_close_events(event_indices, min_separation):\n",
    "    filtered_indices = [event_indices[0]]\n",
    "\n",
    "    for i in range(1, event_indices.size):\n",
    "        if event_indices[i] - event_indices[i - 1] >= min_separation:\n",
    "            # If the time separation is greater than or equal to the threshold, keep the event\n",
    "            filtered_indices.append(event_indices[i])\n",
    "\n",
    "    return np.array(filtered_indices)"
   ],
   "metadata": {
    "collapsed": false
   }
  },
  {
   "cell_type": "code",
   "execution_count": 11,
   "outputs": [],
   "source": [
    "# Short spikes in power when an appliance starts up can be detected as an end event, so make sure that start and end events are not too close together\n",
    "def filter_spikes(events_start, events_end, min_separation):\n",
    "    indexes_to_delete = list()\n",
    "\n",
    "    for iter in range(4):\n",
    "        for i in range(events_start.size):\n",
    "            for j in range(events_end.size):\n",
    "                if events_end[j] < events_start[i]:\n",
    "                    continue\n",
    "\n",
    "                if events_end[j] - events_start[i] < min_separation:\n",
    "                    indexes_to_delete.append(j)\n",
    "                    break\n",
    "\n",
    "                break\n",
    "\n",
    "        events_end = np.delete(events_end, indexes_to_delete)\n",
    "        indexes_to_delete = list()\n",
    "    return events_end"
   ],
   "metadata": {
    "collapsed": false
   }
  },
  {
   "cell_type": "code",
   "execution_count": 12,
   "outputs": [],
   "source": [
    "def group_start_end(events_start, events_end):\n",
    "    start_indexes = list()\n",
    "    end_indexes = list()\n",
    "\n",
    "    for i in range(events_start.size):\n",
    "        for j in range(events_end.size):\n",
    "            if events_end[j] < events_start[i]:\n",
    "                continue\n",
    "\n",
    "            start_indexes.append(events_start[i])\n",
    "            end_indexes.append(events_end[j])\n",
    "            break\n",
    "\n",
    "    return np.array(start_indexes), np.array(end_indexes)"
   ],
   "metadata": {
    "collapsed": false
   }
  },
  {
   "cell_type": "code",
   "execution_count": 13,
   "outputs": [],
   "source": [
    "def filter_short_events(events_start, events_end, min_event_length):\n",
    "    start_indexes = list()\n",
    "    end_indexes = list()\n",
    "\n",
    "    for i in range(events_start.size):\n",
    "        if events_end[i] - events_start[i] >= min_event_length:\n",
    "            start_indexes.append(events_start[i])\n",
    "            end_indexes.append(events_end[i])\n",
    "\n",
    "    return np.array(start_indexes), np.array(end_indexes)"
   ],
   "metadata": {
    "collapsed": false
   }
  },
  {
   "cell_type": "markdown",
   "source": [
    "# Extract labeled spikes"
   ],
   "metadata": {
    "collapsed": false
   }
  },
  {
   "cell_type": "code",
   "execution_count": 14,
   "outputs": [],
   "source": [
    "def calculate_overlap(start, end, on, off):\n",
    "    return (min(end, off) - max(start, on)) / (end - start)\n",
    "\n",
    "\n",
    "def find_closest_event(events_start, events_end, time_ticks, label):\n",
    "    start = 0\n",
    "    end = max(events_end)\n",
    "\n",
    "    for event in range(events_start.size):\n",
    "        if events_start[event] > start and time_ticks[int(events_start[event])] <= label[\"OnTime\"]:\n",
    "            start = events_start[event]\n",
    "\n",
    "        if events_end[event] < end and time_ticks[int(events_end[event])] >= label[\"OffTime\"]:\n",
    "            end = events_end[event]\n",
    "\n",
    "    return start, end\n",
    "\n",
    "\n",
    "def extract_labeled_spikes(events_start, events_end, time_ticks, labels):\n",
    "    labeled_events_start = list()\n",
    "    labeled_events_end = list()\n",
    "    phase_index = 0\n",
    "\n",
    "    for index in range(labels.shape[0]):\n",
    "        row = labels.iloc[index]\n",
    "        found = False\n",
    "\n",
    "        last_event = 0\n",
    "        for event in range(events_start.size):\n",
    "            start = int(events_start[event])\n",
    "            end = int(events_end[event])\n",
    "\n",
    "            if start <= last_event:\n",
    "                phase_index += 1\n",
    "\n",
    "            time = time_ticks[phase_index]\n",
    "\n",
    "            if not (row[\"OnTime\"] <= time[start] <= row[\"OffTime\"] or row[\"OnTime\"] <= time[end] <= row[\"OffTime\"]):\n",
    "                continue\n",
    "\n",
    "            found = True\n",
    "            overlap = calculate_overlap(time[start], time[end], row[\"OnTime\"], row[\"OffTime\"])\n",
    "            if overlap < 0.3:\n",
    "                continue\n",
    "\n",
    "            labeled_events_start.append(start)\n",
    "            labeled_events_end.append(end)\n",
    "\n",
    "        if not found:\n",
    "            start, end = find_closest_event(events_start, events_end, time_ticks[phase_index], row)\n",
    "            labeled_events_start.append(start)\n",
    "            labeled_events_end.append(end)\n",
    "\n",
    "    return np.array(labeled_events_start), np.array(labeled_events_end)"
   ],
   "metadata": {
    "collapsed": false
   }
  },
  {
   "cell_type": "code",
   "execution_count": 15,
   "outputs": [],
   "source": [
    "def calculate_events(power):\n",
    "    power = moving_average(power, 7)\n",
    "    power = normalize(power)\n",
    "\n",
    "    events_start, events_end = detect_cusum(power, threshold=0.009, drift=0.0005)\n",
    "    events_start = filter_close_events(events_start, 60)\n",
    "    events_end = filter_close_events(events_end, 60)\n",
    "    events_end = filter_spikes(events_start, events_end, 12)\n",
    "    events_start, events_end = group_start_end(events_start, events_end)\n",
    "    events_start, events_end = filter_short_events(events_start, events_end, 100)\n",
    "\n",
    "    return events_start, events_end\n",
    "\n",
    "\n",
    "def remove_overlapping_events(events_start, events_end):\n",
    "    to_remove = list()\n",
    "\n",
    "    for index in range(1, events_start.size):\n",
    "        if events_end[index] == events_end[index - 1]:\n",
    "            to_remove.append(index)\n",
    "\n",
    "    return np.delete(events_start, to_remove), np.delete(events_end, to_remove)"
   ],
   "metadata": {
    "collapsed": false
   }
  },
  {
   "cell_type": "code",
   "execution_count": 21,
   "outputs": [],
   "source": [
    "phases = [\"Phase1\", \"Phase2\"]\n",
    "events_start = np.empty(0)\n",
    "events_end = np.empty(0)\n",
    "time_ticks = np.empty((2, len))\n",
    "i = 0\n",
    "\n",
    "for phase in phases:\n",
    "    power = data[phase + \"_actual\"]\n",
    "    time = data[phase + \"_time\"]\n",
    "\n",
    "    phase_on, phase_off = calculate_events(power)\n",
    "    events_start = np.append(events_start, phase_on)\n",
    "    events_end = np.append(events_end, phase_off)\n",
    "    time_ticks[i] = time\n",
    "    i += 1\n",
    "\n",
    "events_start, events_end = extract_labeled_spikes(events_start, events_end, time_ticks, tagging_info)\n",
    "events_start, events_end = remove_overlapping_events(events_start, events_end)"
   ],
   "metadata": {
    "collapsed": false
   }
  },
  {
   "cell_type": "code",
   "execution_count": 22,
   "outputs": [
    {
     "name": "stdout",
     "output_type": "stream",
     "text": [
      "[302367. 302980. 304553. 305339. 306060. 306716. 307412. 308220. 308877.\n",
      " 309665. 310383. 313616. 314283. 315057. 315776. 316446. 317217. 317937.\n",
      " 318609. 319382. 320096. 320818. 321543. 322261. 322987. 323707. 324015.\n",
      " 326585. 327259. 328034. 328754. 329421. 330205. 330915. 330915. 333072.\n",
      " 333746. 334513. 335234. 335906. 336676. 337400. 338068. 338841. 339542.\n",
      " 339542. 341749. 342392. 343166. 343888. 343888. 346048. 346717. 347488.\n",
      " 348207. 348207. 350367. 351043. 351826. 352534. 353258. 353980. 354695.\n",
      " 355420. 356139. 356450. 358142.]\n",
      "[302734. 304169. 304978. 305699. 306421. 307139. 307879. 308582. 309302.\n",
      " 310024. 310745. 313974. 314693. 315414. 316135. 316856. 317583. 318302.\n",
      " 319023. 319745. 320460. 321182. 321905. 322622. 323349. 324067. 325518.\n",
      " 326950. 327673. 328404. 329119. 329847. 330562. 331270. 332726. 333439.\n",
      " 334159. 334889. 335597. 336319. 337038. 337758. 338479. 339202. 339924.\n",
      " 341362. 342085. 342803. 343533. 344243. 345701. 346408. 347130. 347850.\n",
      " 348569. 350018. 350735. 351473. 352175. 352699. 353619. 354348. 355053.\n",
      " 355810. 356499. 357474. 362881.]\n"
     ]
    }
   ],
   "source": [
    "print(events_start)\n",
    "print(events_end)"
   ],
   "metadata": {
    "collapsed": false
   }
  },
  {
   "cell_type": "markdown",
   "source": [
    "# Visualizing data"
   ],
   "metadata": {
    "collapsed": false
   }
  },
  {
   "cell_type": "code",
   "execution_count": 6,
   "outputs": [],
   "source": [
    "# Example date: 2023-10-10 12:00:00\n",
    "def zoomIn(start_time: string, end_time: string, time_ticks):\n",
    "    date_format = \"%Y-%m-%d %H:%M:%S\"\n",
    "    # We add two hours because for some reason the start/end index are two hours short\n",
    "    start_time = (datetime.strptime(start_time, date_format) + timedelta(hours=1)).timestamp()\n",
    "    end_time = (datetime.strptime(end_time, date_format) + timedelta(hours=1)).timestamp()\n",
    "\n",
    "    start_index = -1\n",
    "    end_index = -1\n",
    "    for index in range(TS1_real.size):\n",
    "        if time_ticks[index] > start_time and start_index == -1:\n",
    "            start_index = index\n",
    "        if time_ticks[index] > end_time and end_index == -1:\n",
    "            end_index = index\n",
    "    return start_index, end_index"
   ],
   "metadata": {
    "collapsed": false
   }
  },
  {
   "cell_type": "code",
   "execution_count": 7,
   "outputs": [],
   "source": [
    "def plot_events(dataframe, start_index, end_index, time):\n",
    "    for index in range(len(dataframe)):\n",
    "        if not (start_index <= index <= end_index):\n",
    "            continue\n",
    "\n",
    "        if dataframe.iloc[index][\"EventsStart\"] == 1:\n",
    "            plt.axvline(time[index], color='g', linestyle='--')\n",
    "\n",
    "        if dataframe.iloc[index][\"EventsEnd\"] == 1:\n",
    "            plt.axvline(time[index], color='m', linestyle='--')"
   ],
   "metadata": {
    "collapsed": false
   }
  },
  {
   "cell_type": "code",
   "execution_count": 18,
   "outputs": [
    {
     "data": {
      "text/plain": "<Figure size 1500x700 with 1 Axes>",
      "image/png": "[encoded data removed]"
     },
     "metadata": {},
     "output_type": "display_data"
    }
   ],
   "source": [
    "start_index, end_index = zoomIn(\"2012-10-22 23:00:00\", \"2012-10-22 23:40:00\", time_ticks1_np)\n",
    "plt.figure(figsize=(15, 7))\n",
    "\n",
    "# This plots phase 1 and phase 2 separately (zoomed in)\n",
    "plt.plot(TS1_real, L1_actual_power, linestyle='-', color='b', label='L1')\n",
    "plt.plot(TS2_real, L2_actual_power, linestyle='-', color='r', label='L2')\n",
    "\n",
    "# event_times = [TS1_real[int(i)] for i in events_start if start_index <= i <= end_index]\n",
    "# for event_time in event_times:\n",
    "#     plt.axvline(event_time, color='g', linestyle='--')\n",
    "#\n",
    "# event_times = [TS1_real[int(i)] for i in events_end if start_index <= i <= end_index]\n",
    "# for event_time in event_times:\n",
    "#     plt.axvline(event_time, color='m', linestyle='--')\n",
    "\n",
    "plt.xlabel(\"Time\")\n",
    "plt.ylabel(\"Value\")\n",
    "plt.legend()\n",
    "plt.grid(True)\n",
    "plt.show()"
   ],
   "metadata": {
    "collapsed": false
   }
  },
  {
   "cell_type": "markdown",
   "source": [
    "# Working on the model"
   ],
   "metadata": {
    "collapsed": false
   }
  },
  {
   "cell_type": "markdown",
   "source": [
    "###"
   ],
   "metadata": {
    "collapsed": false
   }
  },
  {
   "cell_type": "code",
   "execution_count": 83,
   "outputs": [],
   "source": [
    "normalized_phase1 = normalize(L1_actual_power)\n",
    "normalized_phase2 = normalize(L2_actual_power)"
   ],
   "metadata": {
    "collapsed": false
   }
  },
  {
   "cell_type": "markdown",
   "source": [
    "###"
   ],
   "metadata": {
    "collapsed": false
   }
  }
 ],
 "metadata": {
  "kernelspec": {
   "display_name": "Python 3",
   "language": "python",
   "name": "python3"
  },
  "language_info": {
   "codemirror_mode": {
    "name": "ipython",
    "version": 2
   },
   "file_extension": ".py",
   "mimetype": "text/x-python",
   "name": "python",
   "nbconvert_exporter": "python",
   "pygments_lexer": "ipython2",
   "version": "2.7.6"
  }
 },
 "nbformat": 4,
 "nbformat_minor": 0
}
