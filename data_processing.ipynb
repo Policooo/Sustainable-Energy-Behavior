{
 "cells": [
  {
   "cell_type": "code",
   "execution_count": 3,
   "metadata": {
    "collapsed": true
   },
   "outputs": [],
   "source": [
    "import pandas as pd\n",
    "import numpy as np\n",
    "import matplotlib.pyplot as plt\n",
    "import math\n",
    "\n",
    "import pylab as p\n",
    "import seaborn as sns\n",
    "from datetime import datetime, timedelta\n",
    "import string\n",
    "from sklearn.preprocessing import OneHotEncoder"
   ]
  },
  {
   "cell_type": "code",
   "execution_count": 5,
   "outputs": [],
   "source": [
    "file_path_volts1 = r\".\\dataset\\H2\\Tagged_Training_02_15_1360915201\\LF1V.csv\"\n",
    "file_path_amps1 = r\".\\dataset\\H2\\Tagged_Training_02_15_1360915201\\LF1I.csv\"\n",
    "file_path_time_ticks1 = r\".\\dataset\\H2\\Tagged_Training_02_15_1360915201\\TimeTicks1.csv\"\n",
    "\n",
    "file_path_volts2 = r\".\\dataset\\H2\\Tagged_Training_02_15_1360915201\\LF2V.csv\"\n",
    "file_path_amps2 = r\".\\dataset\\H2\\Tagged_Training_02_15_1360915201\\LF2I.csv\"\n",
    "file_path_time_ticks2 = r\".\\dataset\\H2\\Tagged_Training_02_15_1360915201\\TimeTicks2.csv\"\n",
    "\n",
    "file_path_labels = r\".\\dataset\\H2\\AllTaggingInfo.csv\"\n",
    "\n",
    "LF1V = pd.read_csv(file_path_volts1)\n",
    "LF1I = pd.read_csv(file_path_amps1)\n",
    "time_ticks1 = pd.read_csv(file_path_time_ticks1)\n",
    "\n",
    "LF2V = pd.read_csv(file_path_volts2)\n",
    "LF2I = pd.read_csv(file_path_amps2)\n",
    "time_ticks2 = pd.read_csv(file_path_time_ticks2)\n",
    "\n",
    "labels = pd.read_csv(file_path_labels)"
   ],
   "metadata": {
    "collapsed": false
   }
  },
  {
   "cell_type": "code",
   "execution_count": 6,
   "outputs": [],
   "source": [
    "LF1V = np.array(LF1V)\n",
    "LF1I = np.array(LF1I)\n",
    "LF1V = np.array([[complex(y.replace(\"i\", \"j\")) for y in x] for x in LF1V])\n",
    "LF1I = np.array([[complex(y.replace(\"i\", \"j\")) for y in x] for x in LF1I])\n",
    "\n",
    "LF2V = np.array(LF2V)\n",
    "LF2I = np.array(LF2I)\n",
    "LF2V = np.array([[complex(y.replace(\"i\", \"j\")) for y in x] for x in LF2V])\n",
    "LF2I = np.array([[complex(y.replace(\"i\", \"j\")) for y in x] for x in LF2I])"
   ],
   "metadata": {
    "collapsed": false
   }
  },
  {
   "cell_type": "code",
   "execution_count": 7,
   "outputs": [],
   "source": [
    "L1_P = LF1V * np.conjugate(LF1I)\n",
    "L2_P = LF2V * np.conjugate(LF2I)\n",
    "\n",
    "L1_ComplexPower = np.sum(L1_P, axis=1)\n",
    "L2_ComplexPower = np.sum(L2_P, axis=1)\n",
    "\n",
    "L1_real = np.real(L1_ComplexPower)\n",
    "L1_imag = np.imag(L1_ComplexPower)\n",
    "L1_app = np.abs(L1_ComplexPower)\n",
    "\n",
    "L2_real = np.real(L2_ComplexPower)\n",
    "L2_imag = np.imag(L2_ComplexPower)\n",
    "L2_app = np.abs(L2_ComplexPower)\n",
    "\n",
    "L1_Pf = np.cos(np.angle(L1_P[:, 0]))\n",
    "L2_Pf = np.cos(np.angle(L2_P[:, 0]))\n",
    "\n",
    "L1_actual_power = L1_real * L1_Pf\n",
    "L2_actual_power = L2_real * L2_Pf\n",
    "\n",
    "power = L1_actual_power + L2_actual_power[:len(L1_actual_power)]"
   ],
   "metadata": {
    "collapsed": false
   }
  },
  {
   "cell_type": "code",
   "execution_count": 8,
   "outputs": [],
   "source": [
    "time_ticks1_datetime = pd.to_datetime(time_ticks1.iloc[:, 0], unit='s')\n",
    "time_ticks1_np = np.array(time_ticks1)\n",
    "TS1_real = np.array(time_ticks1_datetime)\n",
    "\n",
    "time_ticks2_datetime = pd.to_datetime(time_ticks2.iloc[:, 0], unit='s')\n",
    "TS2_real = np.array(time_ticks2_datetime)"
   ],
   "metadata": {
    "collapsed": false
   }
  },
  {
   "cell_type": "code",
   "execution_count": 9,
   "outputs": [
    {
     "name": "stdout",
     "output_type": "stream",
     "text": [
      "2013-02-15T08:00:01.179514880\n",
      "2013-02-16T07:59:58.976457984\n",
      "2013-02-15T08:00:01.258717952\n",
      "2013-02-16T07:59:58.607661056\n"
     ]
    }
   ],
   "source": [
    "print(TS1_real[0])\n",
    "print(TS1_real[len(TS1_real) - 1])\n",
    "\n",
    "print(TS2_real[0])\n",
    "print(TS2_real[len(TS1_real) - 1])"
   ],
   "metadata": {
    "collapsed": false
   }
  },
  {
   "cell_type": "code",
   "execution_count": 10,
   "outputs": [],
   "source": [
    "labels[\"ON_Time\"] = pd.to_datetime(labels[\"ON_Time\"], unit='s')\n",
    "labels[\"OFF_Time\"] = pd.to_datetime(labels[\"OFF_Time\"], unit='s')"
   ],
   "metadata": {
    "collapsed": false
   }
  },
  {
   "cell_type": "code",
   "execution_count": 11,
   "outputs": [
    {
     "data": {
      "text/plain": "    ApplianceID         ApplianceName             ON_Time            OFF_Time\n0            16        Kitchen Lights 2012-06-13 17:00:00 2012-06-13 17:01:00\n1            16        Kitchen Lights 2012-06-13 17:02:00 2012-06-13 17:02:30\n2            16        Kitchen Lights 2012-06-13 17:03:30 2012-06-13 17:04:30\n3            16        Kitchen Lights 2012-06-13 17:05:30 2012-06-13 17:06:00\n4            17  Kitchen Table Lights 2012-06-13 17:06:30 2012-06-13 17:07:00\n..          ...                   ...                 ...                 ...\n71           32    Straightening Iron 2013-02-15 18:11:30 2013-02-15 18:12:00\n72           32    Straightening Iron 2013-02-15 18:15:00 2013-02-15 18:15:00\n73           13      Garbage Disposal 2013-02-15 18:16:00 2013-02-15 18:16:00\n74           13      Garbage Disposal 2013-02-15 18:17:00 2013-02-15 18:17:00\n75           13      Garbage Disposal 2013-02-15 18:18:00 2013-02-15 18:18:00\n\n[76 rows x 4 columns]",
      "text/html": "<div>\n<style scoped>\n    .dataframe tbody tr th:only-of-type {\n        vertical-align: middle;\n    }\n\n    .dataframe tbody tr th {\n        vertical-align: top;\n    }\n\n    .dataframe thead th {\n        text-align: right;\n    }\n</style>\n<table border=\"1\" class=\"dataframe\">\n  <thead>\n    <tr style=\"text-align: right;\">\n      <th></th>\n      <th>ApplianceID</th>\n      <th>ApplianceName</th>\n      <th>ON_Time</th>\n      <th>OFF_Time</th>\n    </tr>\n  </thead>\n  <tbody>\n    <tr>\n      <th>0</th>\n      <td>16</td>\n      <td>Kitchen Lights</td>\n      <td>2012-06-13 17:00:00</td>\n      <td>2012-06-13 17:01:00</td>\n    </tr>\n    <tr>\n      <th>1</th>\n      <td>16</td>\n      <td>Kitchen Lights</td>\n      <td>2012-06-13 17:02:00</td>\n      <td>2012-06-13 17:02:30</td>\n    </tr>\n    <tr>\n      <th>2</th>\n      <td>16</td>\n      <td>Kitchen Lights</td>\n      <td>2012-06-13 17:03:30</td>\n      <td>2012-06-13 17:04:30</td>\n    </tr>\n    <tr>\n      <th>3</th>\n      <td>16</td>\n      <td>Kitchen Lights</td>\n      <td>2012-06-13 17:05:30</td>\n      <td>2012-06-13 17:06:00</td>\n    </tr>\n    <tr>\n      <th>4</th>\n      <td>17</td>\n      <td>Kitchen Table Lights</td>\n      <td>2012-06-13 17:06:30</td>\n      <td>2012-06-13 17:07:00</td>\n    </tr>\n    <tr>\n      <th>...</th>\n      <td>...</td>\n      <td>...</td>\n      <td>...</td>\n      <td>...</td>\n    </tr>\n    <tr>\n      <th>71</th>\n      <td>32</td>\n      <td>Straightening Iron</td>\n      <td>2013-02-15 18:11:30</td>\n      <td>2013-02-15 18:12:00</td>\n    </tr>\n    <tr>\n      <th>72</th>\n      <td>32</td>\n      <td>Straightening Iron</td>\n      <td>2013-02-15 18:15:00</td>\n      <td>2013-02-15 18:15:00</td>\n    </tr>\n    <tr>\n      <th>73</th>\n      <td>13</td>\n      <td>Garbage Disposal</td>\n      <td>2013-02-15 18:16:00</td>\n      <td>2013-02-15 18:16:00</td>\n    </tr>\n    <tr>\n      <th>74</th>\n      <td>13</td>\n      <td>Garbage Disposal</td>\n      <td>2013-02-15 18:17:00</td>\n      <td>2013-02-15 18:17:00</td>\n    </tr>\n    <tr>\n      <th>75</th>\n      <td>13</td>\n      <td>Garbage Disposal</td>\n      <td>2013-02-15 18:18:00</td>\n      <td>2013-02-15 18:18:00</td>\n    </tr>\n  </tbody>\n</table>\n<p>76 rows × 4 columns</p>\n</div>"
     },
     "execution_count": 11,
     "metadata": {},
     "output_type": "execute_result"
    }
   ],
   "source": [
    "labels.head(76)"
   ],
   "metadata": {
    "collapsed": false
   }
  },
  {
   "cell_type": "code",
   "execution_count": 12,
   "outputs": [
    {
     "data": {
      "text/plain": "<Figure size 1000x700 with 1 Axes>",
      "image/png": "[encoded data removed]"
     },
     "metadata": {},
     "output_type": "display_data"
    }
   ],
   "source": [
    "# Example date: 2023-10-10 12:00:00\n",
    "def zoomIn(start_time: string, end_time: string, time_ticks):\n",
    "    date_format = \"%Y-%m-%d %H:%M:%S\"\n",
    "    # We add two hours because for some reason the start/end index are two hours short\n",
    "    start_time = (datetime.strptime(start_time, date_format) + timedelta(hours=1)).timestamp()\n",
    "    end_time = (datetime.strptime(end_time, date_format) + timedelta(hours=1)).timestamp()\n",
    "\n",
    "    start_index = -1\n",
    "    end_index = -1\n",
    "    for index in range(len(TS1_real)):\n",
    "        if time_ticks[index] > start_time and start_index == -1:\n",
    "            start_index = index\n",
    "        if time_ticks[index] > end_time and end_index == -1:\n",
    "            end_index = index\n",
    "    return start_index, end_index\n",
    "\n",
    "\n",
    "start_index, end_index = zoomIn(\"2013-02-15 19:20:00\", \"2013-02-15 19:41:00\", time_ticks1_np)\n",
    "plt.figure(figsize=(10, 7))\n",
    "\n",
    "#This plots total power consumption (zoomed in)\n",
    "plt.plot(TS2_real[start_index:end_index], power[start_index:end_index], linestyle='-', color='g', label='phase 1 + phase 2')\n",
    "\n",
    "#This plots total power consumption\n",
    "# plt.plot(TS1_real, power, linestyle='-', color='g', label='phase 1 + phase 2')\n",
    "\n",
    "# This plots phase 1 and phase 2 separately (zoomed in)\n",
    "# plt.plot(TS1_real[start_index:end_index], L1_actual_power[start_index:end_index], linestyle='-', color='b', label='L1')\n",
    "# plt.plot(TS2_real[start_index:end_index], L2_actual_power[start_index:end_index], linestyle='-', color='r', label='L2')\n",
    "\n",
    "# This plots phase 1 and phase 2 separately (whole thing)\n",
    "# plt.plot(TS1_real, L1_actual_power, linestyle='-', color='b', label='L1')\n",
    "# plt.plot(TS2_real, L2_actual_power, linestyle='-', color='r', label='L2')\n",
    "\n",
    "plt.xlabel(\"Time\")\n",
    "plt.ylabel(\"Value\")\n",
    "plt.legend()\n",
    "plt.grid(True)\n",
    "plt.show()"
   ],
   "metadata": {
    "collapsed": false
   }
  },
  {
   "cell_type": "code",
   "execution_count": 13,
   "outputs": [
    {
     "ename": "TypeError",
     "evalue": "moving_average() missing 1 required positional argument: 'power'",
     "output_type": "error",
     "traceback": [
      "\u001B[1;31m---------------------------------------------------------------------------\u001B[0m",
      "\u001B[1;31mTypeError\u001B[0m                                 Traceback (most recent call last)",
      "Cell \u001B[1;32mIn[13], line 6\u001B[0m\n\u001B[0;32m      3\u001B[0m     df \u001B[38;5;241m=\u001B[39m df\u001B[38;5;241m.\u001B[39mrolling(window\u001B[38;5;241m=\u001B[39mwindow)\u001B[38;5;241m.\u001B[39mmean()\n\u001B[0;32m      4\u001B[0m     \u001B[38;5;28;01mreturn\u001B[39;00m df\u001B[38;5;241m.\u001B[39mto_numpy()\n\u001B[1;32m----> 6\u001B[0m test \u001B[38;5;241m=\u001B[39m \u001B[43mmoving_average\u001B[49m\u001B[43m(\u001B[49m\u001B[38;5;241;43m20\u001B[39;49m\u001B[43m,\u001B[49m\u001B[43m \u001B[49m\u001B[43mpower\u001B[49m\u001B[43m)\u001B[49m\n\u001B[0;32m      7\u001B[0m plt\u001B[38;5;241m.\u001B[39mfigure(figsize\u001B[38;5;241m=\u001B[39m(\u001B[38;5;241m10\u001B[39m, \u001B[38;5;241m7\u001B[39m))\n\u001B[0;32m      8\u001B[0m plt\u001B[38;5;241m.\u001B[39mplot(TS1_real, test, linestyle\u001B[38;5;241m=\u001B[39m\u001B[38;5;124m'\u001B[39m\u001B[38;5;124m-\u001B[39m\u001B[38;5;124m'\u001B[39m, color\u001B[38;5;241m=\u001B[39m\u001B[38;5;124m'\u001B[39m\u001B[38;5;124mg\u001B[39m\u001B[38;5;124m'\u001B[39m, label\u001B[38;5;241m=\u001B[39m\u001B[38;5;124m'\u001B[39m\u001B[38;5;124mphase 1 + phase 2\u001B[39m\u001B[38;5;124m'\u001B[39m)\n",
      "\u001B[1;31mTypeError\u001B[0m: moving_average() missing 1 required positional argument: 'power'"
     ]
    }
   ],
   "source": [
    "def moving_average(window: int, threshold: int, power):\n",
    "    df = pd.DataFrame(power)\n",
    "    df = df.rolling(window=window).mean()\n",
    "    return df.to_numpy()\n",
    "\n",
    "test = moving_average(20, power)\n",
    "plt.figure(figsize=(10, 7))\n",
    "plt.plot(TS1_real, test, linestyle='-', color='g', label='phase 1 + phase 2')\n",
    "plt.xlabel(\"Time\")\n",
    "plt.ylabel(\"Value\")\n",
    "plt.legend()\n",
    "plt.grid(True)\n",
    "plt.show()"
   ],
   "metadata": {
    "collapsed": false
   }
  },
  {
   "cell_type": "code",
   "execution_count": 22,
   "outputs": [
    {
     "ename": "KeyboardInterrupt",
     "evalue": "",
     "output_type": "error",
     "traceback": [
      "\u001B[1;31m---------------------------------------------------------------------------\u001B[0m",
      "\u001B[1;31mKeyboardInterrupt\u001B[0m                         Traceback (most recent call last)",
      "Cell \u001B[1;32mIn[22], line 38\u001B[0m\n\u001B[0;32m     34\u001B[0m     \u001B[38;5;66;03m# TODO: SHUFFLE DATA\u001B[39;00m\n\u001B[0;32m     36\u001B[0m     \u001B[38;5;28;01mreturn\u001B[39;00m data, time, appliances\n\u001B[1;32m---> 38\u001B[0m data, time, appliances \u001B[38;5;241m=\u001B[39m \u001B[43mprocess_data\u001B[49m\u001B[43m(\u001B[49m\u001B[43mpower\u001B[49m\u001B[43m,\u001B[49m\u001B[43m \u001B[49m\u001B[43mtime_ticks1_np\u001B[49m\u001B[43m,\u001B[49m\u001B[43m \u001B[49m\u001B[43mlabels\u001B[49m\u001B[43m,\u001B[49m\u001B[43m \u001B[49m\u001B[38;5;241;43m10\u001B[39;49m\u001B[43m)\u001B[49m\n",
      "Cell \u001B[1;32mIn[22], line 29\u001B[0m, in \u001B[0;36mprocess_data\u001B[1;34m(power, time_ticks, labels, window)\u001B[0m\n\u001B[0;32m     26\u001B[0m             \u001B[38;5;28;01mbreak\u001B[39;00m\n\u001B[0;32m     28\u001B[0m     \u001B[38;5;28;01mif\u001B[39;00m \u001B[38;5;129;01mnot\u001B[39;00m found:\n\u001B[1;32m---> 29\u001B[0m         appliances\u001B[38;5;241m.\u001B[39mappend(encode(\u001B[38;5;241m0\u001B[39m, \u001B[38;5;28mmax\u001B[39m(\u001B[43mlabels\u001B[49m\u001B[43m[\u001B[49m\u001B[38;5;124;43m\"\u001B[39;49m\u001B[38;5;124;43mApplianceID\u001B[39;49m\u001B[38;5;124;43m\"\u001B[39;49m\u001B[43m]\u001B[49m)))\n\u001B[0;32m     31\u001B[0m data \u001B[38;5;241m=\u001B[39m np\u001B[38;5;241m.\u001B[39marray(data)\n\u001B[0;32m     32\u001B[0m time \u001B[38;5;241m=\u001B[39m np\u001B[38;5;241m.\u001B[39marray(time)\n",
      "File \u001B[1;32m~\\PycharmProjects\\Sustainable-Energy-Behavior\\venv\\Lib\\site-packages\\pandas\\core\\frame.py:3859\u001B[0m, in \u001B[0;36mDataFrame.__getitem__\u001B[1;34m(self, key)\u001B[0m\n\u001B[0;32m   3857\u001B[0m check_dict_or_set_indexers(key)\n\u001B[0;32m   3858\u001B[0m key \u001B[38;5;241m=\u001B[39m lib\u001B[38;5;241m.\u001B[39mitem_from_zerodim(key)\n\u001B[1;32m-> 3859\u001B[0m key \u001B[38;5;241m=\u001B[39m \u001B[43mcom\u001B[49m\u001B[38;5;241;43m.\u001B[39;49m\u001B[43mapply_if_callable\u001B[49m\u001B[43m(\u001B[49m\u001B[43mkey\u001B[49m\u001B[43m,\u001B[49m\u001B[43m \u001B[49m\u001B[38;5;28;43mself\u001B[39;49m\u001B[43m)\u001B[49m\n\u001B[0;32m   3861\u001B[0m \u001B[38;5;28;01mif\u001B[39;00m is_hashable(key) \u001B[38;5;129;01mand\u001B[39;00m \u001B[38;5;129;01mnot\u001B[39;00m is_iterator(key):\n\u001B[0;32m   3862\u001B[0m     \u001B[38;5;66;03m# is_iterator to exclude generator e.g. test_getitem_listlike\u001B[39;00m\n\u001B[0;32m   3863\u001B[0m     \u001B[38;5;66;03m# shortcut if the key is in columns\u001B[39;00m\n\u001B[0;32m   3864\u001B[0m     is_mi \u001B[38;5;241m=\u001B[39m \u001B[38;5;28misinstance\u001B[39m(\u001B[38;5;28mself\u001B[39m\u001B[38;5;241m.\u001B[39mcolumns, MultiIndex)\n",
      "File \u001B[1;32m~\\PycharmProjects\\Sustainable-Energy-Behavior\\venv\\Lib\\site-packages\\pandas\\core\\common.py:367\u001B[0m, in \u001B[0;36mapply_if_callable\u001B[1;34m(maybe_callable, obj, **kwargs)\u001B[0m\n\u001B[0;32m    360\u001B[0m     \u001B[38;5;66;03m# everything failed (probably because the argument\u001B[39;00m\n\u001B[0;32m    361\u001B[0m     \u001B[38;5;66;03m# wasn't actually callable); we return None\u001B[39;00m\n\u001B[0;32m    362\u001B[0m     \u001B[38;5;66;03m# instead of the empty string in this case to allow\u001B[39;00m\n\u001B[0;32m    363\u001B[0m     \u001B[38;5;66;03m# distinguishing between no name and a name of ''\u001B[39;00m\n\u001B[0;32m    364\u001B[0m     \u001B[38;5;28;01mreturn\u001B[39;00m \u001B[38;5;28;01mNone\u001B[39;00m\n\u001B[1;32m--> 367\u001B[0m \u001B[38;5;28;01mdef\u001B[39;00m \u001B[38;5;21mapply_if_callable\u001B[39m(maybe_callable, obj, \u001B[38;5;241m*\u001B[39m\u001B[38;5;241m*\u001B[39mkwargs):\n\u001B[0;32m    368\u001B[0m \u001B[38;5;250m    \u001B[39m\u001B[38;5;124;03m\"\"\"\u001B[39;00m\n\u001B[0;32m    369\u001B[0m \u001B[38;5;124;03m    Evaluate possibly callable input using obj and kwargs if it is callable,\u001B[39;00m\n\u001B[0;32m    370\u001B[0m \u001B[38;5;124;03m    otherwise return as it is.\u001B[39;00m\n\u001B[1;32m   (...)\u001B[0m\n\u001B[0;32m    376\u001B[0m \u001B[38;5;124;03m    **kwargs\u001B[39;00m\n\u001B[0;32m    377\u001B[0m \u001B[38;5;124;03m    \"\"\"\u001B[39;00m\n\u001B[0;32m    378\u001B[0m     \u001B[38;5;28;01mif\u001B[39;00m \u001B[38;5;28mcallable\u001B[39m(maybe_callable):\n",
      "\u001B[1;31mKeyboardInterrupt\u001B[0m: "
     ]
    }
   ],
   "source": [
    "def encode(label, total_labels):\n",
    "    array = np.zeros(total_labels + 1)\n",
    "    array[label] = 1\n",
    "    return array\n",
    "\n",
    "def process_data(power, time_ticks, labels, window):\n",
    "    data = []\n",
    "    appliances = []\n",
    "    time = []\n",
    "\n",
    "    for index in range(len(power) - window + 1):\n",
    "        window_start = index\n",
    "        window_end = index + window\n",
    "        data.append(power[window_start:window_end])\n",
    "        time.append(time_ticks[window_start:window_end])\n",
    "\n",
    "        found = False\n",
    "        for label in labels.iterrows():\n",
    "            label = label[1]\n",
    "            start_time = datetime.utcfromtimestamp(time_ticks[window_start].item())\n",
    "            end_time = datetime.utcfromtimestamp(time_ticks[window_end].item())\n",
    "\n",
    "            if label[\"ON_Time\"] <= start_time <= label[\"OFF_Time\"] or label[\"ON_Time\"] <= end_time <= label[\"OFF_Time\"]:\n",
    "                found = True\n",
    "                appliances.append(encode(label[\"ApplianceID\"], max(labels[\"ApplianceID\"])))\n",
    "                break\n",
    "\n",
    "        if not found:\n",
    "            appliances.append(encode(0, max(labels[\"ApplianceID\"])))\n",
    "\n",
    "    data = np.array(data)\n",
    "    time = np.array(time)\n",
    "    appliances = np.array(appliances)\n",
    "    # TODO: SHUFFLE DATA\n",
    "\n",
    "    return data, time, appliances\n",
    "\n",
    "data, time, appliances = process_data(power, time_ticks1_np, labels, 10)"
   ],
   "metadata": {
    "collapsed": false
   }
  },
  {
   "cell_type": "code",
   "execution_count": null,
   "outputs": [],
   "source": [],
   "metadata": {
    "collapsed": false
   }
  }
 ],
 "metadata": {
  "kernelspec": {
   "display_name": "Python 3",
   "language": "python",
   "name": "python3"
  },
  "language_info": {
   "codemirror_mode": {
    "name": "ipython",
    "version": 2
   },
   "file_extension": ".py",
   "mimetype": "text/x-python",
   "name": "python",
   "nbconvert_exporter": "python",
   "pygments_lexer": "ipython2",
   "version": "2.7.6"
  }
 },
 "nbformat": 4,
 "nbformat_minor": 0
}
