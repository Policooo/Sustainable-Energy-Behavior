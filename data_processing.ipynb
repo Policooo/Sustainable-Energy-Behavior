{
 "cells": [
  {
   "cell_type": "code",
   "execution_count": 1,
   "metadata": {
    "collapsed": true
   },
   "outputs": [],
   "source": [
    "import pandas as pd\n",
    "import numpy as np\n",
    "import matplotlib.pyplot as plt\n",
    "from sklearn.model_selection import train_test_split\n",
    "from keras.models import Sequential\n",
    "from keras.layers import Conv1D, MaxPooling1D, Flatten, Dense, InputLayer\n",
    "import random\n",
    "import os\n",
    "\n",
    "import math\n",
    "\n",
    "import pylab as p\n",
    "import seaborn as sns\n",
    "from datetime import datetime, timedelta\n",
    "import string\n",
    "from sklearn.preprocessing import OneHotEncoder"
   ]
  },
  {
   "cell_type": "markdown",
   "source": [
    "# Read and process data"
   ],
   "metadata": {
    "collapsed": false
   }
  },
  {
   "cell_type": "markdown",
   "source": [
    "### Calculate the power and put it in a dataframe"
   ],
   "metadata": {
    "collapsed": false
   }
  },
  {
   "cell_type": "code",
   "execution_count": 2,
   "outputs": [],
   "source": [
    "def calculate_power(LF1V, LF1I, TimeTicks1, LF2V, LF2I, TimeTicks2):\n",
    "    LF1V = np.array(LF1V)\n",
    "    LF1I = np.array(LF1I)\n",
    "    LF1V = np.array([[complex(y.replace(\"i\", \"j\")) for y in x] for x in LF1V])\n",
    "    LF1I = np.array([[complex(y.replace(\"i\", \"j\")) for y in x] for x in LF1I])\n",
    "\n",
    "    LF2V = np.array(LF2V)\n",
    "    LF2I = np.array(LF2I)\n",
    "    LF2V = np.array([[complex(y.replace(\"i\", \"j\")) for y in x] for x in LF2V])\n",
    "    LF2I = np.array([[complex(y.replace(\"i\", \"j\")) for y in x] for x in LF2I])\n",
    "\n",
    "    L1_P = LF1V * np.conjugate(LF1I)\n",
    "    L2_P = LF2V * np.conjugate(LF2I)\n",
    "\n",
    "    L1_ComplexPower = np.sum(L1_P, axis=1)\n",
    "    L2_ComplexPower = np.sum(L2_P, axis=1)\n",
    "\n",
    "    L1_real = np.real(L1_ComplexPower)\n",
    "    L1_imag = np.imag(L1_ComplexPower)\n",
    "    L1_app = np.abs(L1_ComplexPower)\n",
    "\n",
    "    L2_real = np.real(L2_ComplexPower)\n",
    "    L2_imag = np.imag(L2_ComplexPower)\n",
    "    L2_app = np.abs(L2_ComplexPower)\n",
    "\n",
    "    L1_Pf = np.cos(np.angle(L1_P[:, 0]))\n",
    "    L2_Pf = np.cos(np.angle(L2_P[:, 0]))\n",
    "\n",
    "    L1_actual_power = L1_real * L1_Pf\n",
    "    L2_actual_power = L2_real * L2_Pf\n",
    "\n",
    "    time_ticks1 = np.array(TimeTicks1)\n",
    "    time_ticks2 = np.array(TimeTicks2)\n",
    "\n",
    "    data = pd.DataFrame()\n",
    "    len = min(L1_actual_power.size, L2_actual_power.size)\n",
    "\n",
    "    data[\"Phase1_actual\"] = L1_actual_power[:len]\n",
    "    data[\"Phase1_real\"] = L1_real[:len]\n",
    "    data[\"Phase1_img\"] = L1_imag[:len]\n",
    "    data[\"Phase1_app\"] = L1_app[:len]\n",
    "    data[\"Phase1_time\"] = time_ticks1[:len]\n",
    "\n",
    "    data[\"Phase2_actual\"] = L2_actual_power[:len]\n",
    "    data[\"Phase2_real\"] = L2_real[:len]\n",
    "    data[\"Phase2_img\"] = L2_imag[:len]\n",
    "    data[\"Phase2_app\"] = L2_app[:len]\n",
    "    data[\"Phase2_time\"] = time_ticks2[:len]\n",
    "\n",
    "    return data"
   ],
   "metadata": {
    "collapsed": false
   }
  },
  {
   "cell_type": "markdown",
   "source": [
    "### Go through directory and process the days"
   ],
   "metadata": {
    "collapsed": false
   }
  },
  {
   "cell_type": "code",
   "execution_count": 3,
   "outputs": [],
   "source": [
    "# Directory is the path to the directory where to house's information is\n",
    "def read_files_in_directory(directory):\n",
    "    all_tagging_info = pd.DataFrame()\n",
    "    labels = []\n",
    "    data = []\n",
    "\n",
    "    for root, _, files in os.walk(directory):\n",
    "        if \"Testing\" in root:\n",
    "            continue\n",
    "\n",
    "        LF1I = pd.DataFrame()\n",
    "        LF1V = pd.DataFrame()\n",
    "        TimeTicks1 = pd.DataFrame()\n",
    "        LF2I = pd.DataFrame()\n",
    "        LF2V = pd.DataFrame()\n",
    "        TimeTicks2 = pd.DataFrame()\n",
    "        for file in files:\n",
    "\n",
    "            file_path = os.path.join(root, file)\n",
    "            if file == \"CompleteTaggingInfo.csv\":\n",
    "                all_tagging_info = pd.read_csv(file_path)\n",
    "                continue\n",
    "\n",
    "            if file == \"TaggingInfo.csv\":\n",
    "                # labels.append(pd.read_csv(file_path))\n",
    "                continue\n",
    "\n",
    "            if file == \"LF1I.csv\":\n",
    "                LF1I = pd.read_csv(file_path)\n",
    "                continue\n",
    "\n",
    "            if file == \"LF1V.csv\":\n",
    "                LF1V = pd.read_csv(file_path)\n",
    "                continue\n",
    "\n",
    "            if file == \"TimeTicks1.csv\":\n",
    "                TimeTicks1 = pd.read_csv(file_path)\n",
    "                continue\n",
    "\n",
    "            if file == \"LF2I.csv\":\n",
    "                LF2I = pd.read_csv(file_path)\n",
    "                continue\n",
    "\n",
    "            if file == \"LF2V.csv\":\n",
    "                LF2V = pd.read_csv(file_path)\n",
    "                continue\n",
    "\n",
    "            if file == \"TimeTicks2.csv\":\n",
    "                TimeTicks2 = pd.read_csv(file_path)\n",
    "                continue\n",
    "\n",
    "        if not LF1I.empty and not LF1V.empty and not LF2I.empty and not LF2V.empty:\n",
    "            print(f\"{root}: \")\n",
    "            day_data = calculate_power(LF1I, LF1V, TimeTicks1, LF2I, LF2V, TimeTicks2)\n",
    "            data.append(day_data)\n",
    "\n",
    "    return data, labels, all_tagging_info"
   ],
   "metadata": {
    "collapsed": false
   }
  },
  {
   "cell_type": "code",
   "execution_count": 4,
   "outputs": [
    {
     "name": "stdout",
     "output_type": "stream",
     "text": [
      ".\\dataset\\H1\\Tagged_Training_04_13_1334300401: \n",
      ".\\dataset\\H1\\Tagged_Training_10_22_1350889201: \n",
      ".\\dataset\\H1\\Tagged_Training_10_23_1350975601: \n",
      ".\\dataset\\H1\\Tagged_Training_10_24_1351062001: \n",
      ".\\dataset\\H1\\Tagged_Training_10_25_1351148401: \n",
      ".\\dataset\\H1\\Tagged_Training_12_27_1356595201: \n",
      ".\\dataset\\H2\\Tagged_Training_02_15_1360915201: \n",
      ".\\dataset\\H2\\Tagged_Training_06_13_1339570801: \n",
      ".\\dataset\\H2\\Tagged_Training_06_14_1339657201: \n",
      ".\\dataset\\H2\\Tagged_Training_06_15_1339743601: \n",
      ".\\dataset\\H3\\Tagged_Training_07_30_1343631601: \n",
      ".\\dataset\\H3\\Tagged_Training_07_31_1343718001: \n",
      ".\\dataset\\H3\\Tagged_Training_08_01_1343804401: \n",
      ".\\dataset\\H4\\Tagged_Training_07_26_1343286001: \n",
      ".\\dataset\\H4\\Tagged_Training_07_27_1343372401: \n"
     ]
    }
   ],
   "source": [
    "data, _, all_tagging_info = read_files_in_directory(r\".\\dataset\")"
   ],
   "metadata": {
    "collapsed": false
   }
  },
  {
   "cell_type": "code",
   "execution_count": 5,
   "outputs": [
    {
     "name": "stdout",
     "output_type": "stream",
     "text": [
      "[        Phase1_actual  Phase1_real  Phase1_img  Phase1_app   Phase1_time  \\\n",
      "0           19.430857    24.264125   18.475752   30.497560  1.334300e+09   \n",
      "1           19.924720    24.357135   17.474827   29.977318  1.334300e+09   \n",
      "2           19.690603    24.166927   17.523352   29.851436  1.334300e+09   \n",
      "3           19.910825    24.234800   17.153411   29.691161  1.334300e+09   \n",
      "4           20.829979    25.187723   17.446867   30.640081  1.334300e+09   \n",
      "...               ...          ...         ...         ...           ...   \n",
      "518938      19.939808    24.472770   17.732765   30.221969  1.334387e+09   \n",
      "518939      19.792885    24.371436   17.809936   30.185439  1.334387e+09   \n",
      "518940      20.446493    24.783498   17.294649   30.221295  1.334387e+09   \n",
      "518941      20.235556    24.840667   18.001915   30.677804  1.334387e+09   \n",
      "518942      19.618725    24.178684   17.711506   29.971757  1.334387e+09   \n",
      "\n",
      "        Phase2_actual  Phase2_real  Phase2_img  Phase2_app   Phase2_time  \n",
      "0           85.991295   120.168694 -118.877907  169.033937  1.334300e+09  \n",
      "1           85.805116   119.911703 -118.649932  168.690909  1.334300e+09  \n",
      "2           85.714063   119.935873 -118.966573  168.930930  1.334300e+09  \n",
      "3           85.494598   119.680443 -118.825656  168.650363  1.334300e+09  \n",
      "4           86.072731   120.257895 -118.927763  169.132416  1.334300e+09  \n",
      "...               ...          ...         ...         ...           ...  \n",
      "518938      86.780768   121.249157 -119.916436  170.532430  1.334387e+09  \n",
      "518939      87.182371   121.701655 -120.143478  171.013883  1.334387e+09  \n",
      "518940      87.425346   121.899392 -120.032952  171.077092  1.334387e+09  \n",
      "518941      86.774875   121.414595 -120.431602  171.012499  1.334387e+09  \n",
      "518942      87.208919   121.795380 -120.339691  171.218444  1.334387e+09  \n",
      "\n",
      "[518943 rows x 10 columns],         Phase1_actual  Phase1_real  Phase1_img  Phase1_app   Phase1_time  \\\n",
      "0          162.842429   170.978993   53.553154  179.169630  1.350889e+09   \n",
      "1          161.708231   169.737549   53.019500  177.825485  1.350889e+09   \n",
      "2          162.722837   171.018545   54.148461  179.386172  1.350889e+09   \n",
      "3          163.213836   171.296489   53.400786  179.427230  1.350889e+09   \n",
      "4          163.879920   172.037324   53.753454  180.239493  1.350889e+09   \n",
      "...               ...          ...         ...         ...           ...   \n",
      "518928     319.048360   319.120584   -8.038761  319.221817  1.350976e+09   \n",
      "518929     319.326182   319.345330   -4.720951  319.380224  1.350976e+09   \n",
      "518930     317.024258   317.112046   -8.718787  317.231882  1.350976e+09   \n",
      "518931     320.120820   320.161465   -6.363714  320.224703  1.350976e+09   \n",
      "518932     320.024071   320.050636   -5.389470  320.096011  1.350976e+09   \n",
      "\n",
      "        Phase2_actual  Phase2_real  Phase2_img  Phase2_app   Phase2_time  \n",
      "0          110.193319   132.702988  -90.767860  160.775892  1.350889e+09  \n",
      "1          110.585908   133.027111  -90.648608  160.976341  1.350889e+09  \n",
      "2          110.945709   133.218522  -90.241776  160.906037  1.350889e+09  \n",
      "3          110.874637   133.079884  -90.026315  160.670449  1.350889e+09  \n",
      "4          110.561158   132.965243  -90.539954  160.864039  1.350889e+09  \n",
      "...               ...          ...         ...         ...           ...  \n",
      "518928     111.065849   134.343832  -93.066604  163.430896  1.350976e+09  \n",
      "518929     112.235199   135.159068  -92.314340  163.676239  1.350976e+09  \n",
      "518930     112.449953   135.305397  -92.178850  163.720771  1.350976e+09  \n",
      "518931     112.760159   135.699571  -92.494485  164.224247  1.350976e+09  \n",
      "518932     113.922991   136.750410  -92.446043  165.066488  1.350976e+09  \n",
      "\n",
      "[518933 rows x 10 columns],         Phase1_actual  Phase1_real  Phase1_img  Phase1_app   Phase1_time  \\\n",
      "0          319.018772   319.044253   -5.256890  319.087559  1.350976e+09   \n",
      "1          319.213751   319.256349   -6.451634  319.321530  1.350976e+09   \n",
      "2          316.515640   316.596579   -8.335119  316.706280  1.350976e+09   \n",
      "3          318.412590   318.433425   -4.821916  318.469931  1.350976e+09   \n",
      "4          317.942143   318.008844   -7.768583  318.103718  1.350976e+09   \n",
      "...               ...          ...         ...         ...           ...   \n",
      "518928     323.582142   323.887110  -15.176356  324.242474  1.351062e+09   \n",
      "518929     324.623903   324.929969  -15.212867  325.285899  1.351062e+09   \n",
      "518930     323.504176   323.860733  -16.305783  324.270956  1.351062e+09   \n",
      "518931     323.433544   323.702232  -14.260339  324.016191  1.351062e+09   \n",
      "518932     321.480503   321.849754  -16.515759  322.273229  1.351062e+09   \n",
      "\n",
      "        Phase2_actual  Phase2_real  Phase2_img  Phase2_app   Phase2_time  \n",
      "0          109.719113   132.973314  -92.670298  162.079259  1.350976e+09  \n",
      "1          110.130151   133.620571  -93.413665  163.035486  1.350976e+09  \n",
      "2          110.343508   133.514826  -92.568069  162.465554  1.350976e+09  \n",
      "3          109.768600   133.144820  -93.012821  162.415911  1.350976e+09  \n",
      "4          109.333166   132.656299  -92.791682  161.888819  1.350976e+09  \n",
      "...               ...          ...         ...         ...           ...  \n",
      "518928     109.816868   133.303501  -93.282772  162.700642  1.351062e+09  \n",
      "518929     109.529295   133.137171  -93.549460  162.717571  1.351062e+09  \n",
      "518930     110.008565   133.237914  -92.584325  162.247339  1.351062e+09  \n",
      "518931     109.117259   132.744309  -93.524677  162.382008  1.351062e+09  \n",
      "518932     108.572693   132.328297  -93.760688  162.178435  1.351062e+09  \n",
      "\n",
      "[518933 rows x 10 columns],         Phase1_actual  Phase1_real  Phase1_img  Phase1_app   Phase1_time  \\\n",
      "0          324.192609   324.524848  -15.824444  324.910434  1.351062e+09   \n",
      "1          323.342048   323.674768  -15.762378  324.058341  1.351062e+09   \n",
      "2          321.893517   322.190657  -14.909829  322.535459  1.351062e+09   \n",
      "3          322.506852   322.870303  -16.410062  323.287060  1.351062e+09   \n",
      "4          322.487934   322.727525  -13.509429  323.010154  1.351062e+09   \n",
      "...               ...          ...         ...         ...           ...   \n",
      "518927     313.525123   313.734989  -12.605631  313.988129  1.351148e+09   \n",
      "518928     313.553162   313.840496  -14.563728  314.178228  1.351148e+09   \n",
      "518929     314.005817   314.219385  -12.693011  314.475650  1.351148e+09   \n",
      "518930     311.033037   311.340133  -14.958419  311.699266  1.351148e+09   \n",
      "518931     315.104527   315.305010  -12.378610  315.547903  1.351148e+09   \n",
      "\n",
      "        Phase2_actual  Phase2_real  Phase2_img  Phase2_app   Phase2_time  \n",
      "0          109.257317   132.674613  -92.959960  162.000330  1.351062e+09  \n",
      "1          110.044759   133.657454  -93.686648  163.222251  1.351062e+09  \n",
      "2          109.567434   133.116993  -93.400956  162.615720  1.351062e+09  \n",
      "3          109.933433   133.562481  -93.708824  163.157225  1.351062e+09  \n",
      "4          109.259499   132.697151  -93.008810  162.046822  1.351062e+09  \n",
      "...               ...          ...         ...         ...           ...  \n",
      "518927     110.240662   133.490358  -92.789155  162.571532  1.351148e+09  \n",
      "518928     109.480661   132.869235  -93.009351  162.188079  1.351148e+09  \n",
      "518929     109.279563   132.758256  -93.204917  162.209467  1.351148e+09  \n",
      "518930     109.741390   133.311882  -93.584076  162.880438  1.351148e+09  \n",
      "518931     109.377934   132.775823  -93.005661  162.109445  1.351148e+09  \n",
      "\n",
      "[518932 rows x 10 columns],         Phase1_actual  Phase1_real  Phase1_img  Phase1_app   Phase1_time  \\\n",
      "0          311.665714   311.920750  -13.723784  312.222511  1.351148e+09   \n",
      "1          311.554569   311.755130  -12.266120  311.996344  1.351148e+09   \n",
      "2          311.854578   312.118966  -13.976842  312.431755  1.351148e+09   \n",
      "3          313.516127   313.682567  -11.329379  313.887094  1.351148e+09   \n",
      "4          313.325433   313.570320  -13.557534  313.863270  1.351148e+09   \n",
      "...               ...          ...         ...         ...           ...   \n",
      "518927     284.808460   285.199911  -15.747601  285.634340  1.351235e+09   \n",
      "518928     284.716826   285.203089  -17.480431  285.738285  1.351235e+09   \n",
      "518929     284.741717   285.076286  -14.619277  285.450892  1.351235e+09   \n",
      "518930     284.484404   284.956198  -17.241298  285.477314  1.351235e+09   \n",
      "518931     285.758093   286.170299  -16.188564  286.627825  1.351235e+09   \n",
      "\n",
      "        Phase2_actual  Phase2_real  Phase2_img  Phase2_app   Phase2_time  \n",
      "0          109.204813   132.626496  -93.018935  161.994783  1.351148e+09  \n",
      "1          109.557726   133.124294  -93.506425  162.682295  1.351148e+09  \n",
      "2          109.607713   132.910184  -92.770194  162.084626  1.351148e+09  \n",
      "3          109.684553   133.043925  -92.957056  162.301263  1.351148e+09  \n",
      "4          109.460137   132.872893  -93.066628  162.223928  1.351148e+09  \n",
      "...               ...          ...         ...         ...           ...  \n",
      "518927     109.432088   131.940233  -90.513642  160.002951  1.351235e+09  \n",
      "518928     110.540211   132.799819  -90.055855  160.455130  1.351235e+09  \n",
      "518929     110.486644   132.626894  -89.694007  160.109050  1.351235e+09  \n",
      "518930     109.044581   131.537529  -90.387333  159.599472  1.351235e+09  \n",
      "518931     108.918244   131.367643  -90.227552  159.368971  1.351235e+09  \n",
      "\n",
      "[518932 rows x 10 columns],         Phase1_actual  Phase1_real  Phase1_img  Phase1_app   Phase1_time  \\\n",
      "0           44.609250    55.227514   40.225952   68.324267  1.356595e+09   \n",
      "1           44.741972    55.151765   39.675816   67.940323  1.356595e+09   \n",
      "2           43.994370    54.660710   40.216143   67.861118  1.356595e+09   \n",
      "3           44.547050    55.022593   39.808882   67.913421  1.356595e+09   \n",
      "4           44.816486    55.085621   39.294702   67.664609  1.356595e+09   \n",
      "...               ...          ...         ...         ...           ...   \n",
      "347392     225.158724   227.274738  -31.407039  229.434541  1.356653e+09   \n",
      "347393     225.853297   227.633933  -28.809661  229.449786  1.356653e+09   \n",
      "347394     224.763465   226.845789  -31.124008  228.970994  1.356653e+09   \n",
      "347395     224.921932   227.012781  -31.197529  229.146435  1.356653e+09   \n",
      "347396     224.974290   226.849718  -29.510399  228.761138  1.356653e+09   \n",
      "\n",
      "        Phase2_actual  Phase2_real  Phase2_img  Phase2_app   Phase2_time  \n",
      "0          141.325929   191.627758 -177.299085  261.067354  1.356595e+09  \n",
      "1          142.068482   192.100290 -176.662295  260.982926  1.356595e+09  \n",
      "2          142.154960   192.035245 -176.226371  260.640114  1.356595e+09  \n",
      "3          141.547647   191.715512 -176.964719  260.904866  1.356595e+09  \n",
      "4          141.517839   191.866020 -177.474175  261.361153  1.356595e+09  \n",
      "...               ...          ...         ...         ...           ...  \n",
      "347392      90.274768   101.486188  -53.075576  114.527129  1.356653e+09  \n",
      "347393      92.224210   103.251501  -52.952873  116.038266  1.356653e+09  \n",
      "347394      89.412939   100.816766  -53.461022  114.114421  1.356653e+09  \n",
      "347395      90.826572   101.995151  -53.075012  114.978118  1.356653e+09  \n",
      "347396      90.549541   101.801140  -53.251471  114.887733  1.356653e+09  \n",
      "\n",
      "[347397 rows x 10 columns]]\n"
     ]
    }
   ],
   "source": [
    "print(data)"
   ],
   "metadata": {
    "collapsed": false
   }
  },
  {
   "cell_type": "markdown",
   "source": [
    "# Next we need to detect all labeled events"
   ],
   "metadata": {
    "collapsed": false
   }
  },
  {
   "cell_type": "markdown",
   "source": [
    "### All the methods needed to detect, filter and extract spikes"
   ],
   "metadata": {
    "collapsed": false
   }
  },
  {
   "cell_type": "code",
   "execution_count": 5,
   "outputs": [],
   "source": [
    "def moving_average(array, window):\n",
    "    moving_avg = np.convolve(array, np.ones(window) / window, mode='valid')\n",
    "    return moving_avg\n",
    "\n",
    "\n",
    "def normalize(array):\n",
    "    min_val = np.min(array)\n",
    "    max_val = np.max(array)\n",
    "    normalized_array = (array - min_val) / (max_val - min_val)\n",
    "    return normalized_array\n",
    "\n",
    "\n",
    "def detect_cusum(array, threshold, drift):\n",
    "    sum_positive = np.zeros(array.size)\n",
    "    sum_negative = np.zeros(array.size)\n",
    "    event_index_start = np.array([[], [], []], dtype=int)\n",
    "    event_index_end = np.array([[], [], []], dtype=int)\n",
    "\n",
    "    for i in range(1, array.size):\n",
    "        sum = array[i] - array[i - 1]\n",
    "\n",
    "        # sums for positive/negative changes\n",
    "        sum_positive[i] = max(0, sum_positive[i - 1] + sum - drift)\n",
    "        sum_negative[i] = max(0, sum_negative[i - 1] - sum - drift)\n",
    "\n",
    "        # if a change is detected\n",
    "        if sum_positive[i] > threshold:\n",
    "            event_index_start = np.append(event_index_start, i)\n",
    "            sum_positive[i], sum_negative[i] = 0, 0\n",
    "            continue\n",
    "\n",
    "        if sum_negative[i] > threshold:\n",
    "            event_index_end = np.append(event_index_end, i)\n",
    "            sum_positive[i], sum_negative[i] = 0, 0\n",
    "\n",
    "    return event_index_start, event_index_end\n",
    "\n",
    "\n",
    "def filter_close_events(event_indices, min_separation):\n",
    "    filtered_indices = [event_indices[0]]\n",
    "\n",
    "    for i in range(1, event_indices.size):\n",
    "        if event_indices[i] - event_indices[i - 1] >= min_separation:\n",
    "            # If the time separation is greater than or equal to the threshold, keep the event\n",
    "            filtered_indices.append(event_indices[i])\n",
    "\n",
    "    return np.array(filtered_indices)\n",
    "\n",
    "\n",
    "# Short spikes in power when an appliance starts up can be detected as an end event, so make sure that start and end events are not too close together\n",
    "def filter_spikes(events_start, events_end, min_separation):\n",
    "    indexes_to_delete = list()\n",
    "\n",
    "    for iter in range(4):\n",
    "        for i in range(events_start.size):\n",
    "            for j in range(events_end.size):\n",
    "                if events_end[j] < events_start[i]:\n",
    "                    continue\n",
    "\n",
    "                if events_end[j] - events_start[i] < min_separation:\n",
    "                    indexes_to_delete.append(j)\n",
    "                    break\n",
    "\n",
    "                break\n",
    "\n",
    "        events_end = np.delete(events_end, indexes_to_delete)\n",
    "        indexes_to_delete = list()\n",
    "    return events_end\n",
    "\n",
    "\n",
    "def group_start_end(events_start, events_end):\n",
    "    start_indexes = list()\n",
    "    end_indexes = list()\n",
    "\n",
    "    for i in range(events_start.size):\n",
    "        for j in range(events_end.size):\n",
    "            if events_end[j] < events_start[i]:\n",
    "                continue\n",
    "\n",
    "            start_indexes.append(events_start[i])\n",
    "            end_indexes.append(events_end[j])\n",
    "            break\n",
    "\n",
    "    return np.array(start_indexes), np.array(end_indexes)\n",
    "\n",
    "\n",
    "def filter_short_events(events_start, events_end, min_event_length):\n",
    "    start_indexes = list()\n",
    "    end_indexes = list()\n",
    "\n",
    "    for i in range(events_start.size):\n",
    "        if events_end[i] - events_start[i] >= min_event_length:\n",
    "            start_indexes.append(events_start[i])\n",
    "            end_indexes.append(events_end[i])\n",
    "\n",
    "    return np.array(start_indexes), np.array(end_indexes)\n",
    "\n",
    "\n",
    "def calculate_overlap(start, end, on, off):\n",
    "    return (min(end, off) - max(start, on)) / (end - start)\n",
    "\n",
    "\n",
    "def find_closest_event(events_start, events_end, time_ticks, label):\n",
    "    start = 0\n",
    "    end = max(events_end)\n",
    "\n",
    "    for event in range(events_start.size):\n",
    "        if events_start[event] > start and time_ticks[int(events_start[event])] <= label[\"OnTime\"]:\n",
    "            start = events_start[event]\n",
    "\n",
    "        if events_end[event] < end and time_ticks[int(events_end[event])] >= label[\"OffTime\"]:\n",
    "            end = events_end[event]\n",
    "\n",
    "    return start, end\n",
    "\n",
    "\n",
    "def extract_labeled_spikes(events_start, events_end, time_ticks, labels):\n",
    "    labeled_events_start = list()\n",
    "    labeled_events_end = list()\n",
    "    event_labels = list()\n",
    "\n",
    "    start_of_day = time_ticks[0][0]\n",
    "    end_of_day = time_ticks[0][time_ticks[0].size - 1]\n",
    "\n",
    "    for index in range(labels.shape[0]):\n",
    "        row = labels.iloc[index]\n",
    "        found = False\n",
    "\n",
    "        if not (start_of_day <= row[\"OnTime\"] <= end_of_day):\n",
    "            continue\n",
    "\n",
    "        last_event = 0\n",
    "        phase_index = 0\n",
    "        for event in range(events_start.size):\n",
    "            start = int(events_start[event])\n",
    "            end = int(events_end[event])\n",
    "\n",
    "            if start < last_event:\n",
    "                phase_index += 1\n",
    "\n",
    "            last_event = start\n",
    "\n",
    "            time = time_ticks[phase_index]\n",
    "\n",
    "            if not (row[\"OnTime\"] <= time[start] <= row[\"OffTime\"] or row[\"OnTime\"] <= time[end] <= row[\"OffTime\"]):\n",
    "                continue\n",
    "\n",
    "            found = True\n",
    "            overlap = calculate_overlap(time[start], time[end], row[\"OnTime\"], row[\"OffTime\"])\n",
    "            if overlap < 0.3:\n",
    "                continue\n",
    "\n",
    "            labeled_events_start.append(start)\n",
    "            labeled_events_end.append(end)\n",
    "            event_labels.append(row[\"ID\"])\n",
    "\n",
    "        if not found:\n",
    "            start, end = find_closest_event(events_start, events_end, time_ticks[phase_index], row)\n",
    "            labeled_events_start.append(start)\n",
    "            labeled_events_end.append(end)\n",
    "            event_labels.append(row[\"ID\"])\n",
    "\n",
    "    return np.array(labeled_events_start), np.array(labeled_events_end), np.array(event_labels)\n",
    "\n",
    "\n",
    "def calculate_events(phase_power):\n",
    "    phase_power = moving_average(phase_power, 7)\n",
    "    phase_power = normalize(phase_power)\n",
    "\n",
    "    events_start, events_end = detect_cusum(phase_power, threshold=0.009, drift=0.0005)\n",
    "    events_start = filter_close_events(events_start, 60)\n",
    "    events_end = filter_close_events(events_end, 60)\n",
    "    events_end = filter_spikes(events_start, events_end, 12)\n",
    "    events_start, events_end = group_start_end(events_start, events_end)\n",
    "    events_start, events_end = filter_short_events(events_start, events_end, 100)\n",
    "\n",
    "    return events_start, events_end\n",
    "\n",
    "\n",
    "def remove_overlapping_events(events_start, events_end, event_labels):\n",
    "    to_remove = list()\n",
    "\n",
    "    for index in range(1, events_start.size):\n",
    "        if events_end[index] == events_end[index - 1]:\n",
    "            to_remove.append(index)\n",
    "\n",
    "    return np.delete(events_start, to_remove), np.delete(events_end, to_remove), np.delete(event_labels, to_remove)"
   ],
   "metadata": {
    "collapsed": false
   }
  },
  {
   "cell_type": "code",
   "execution_count": 6,
   "outputs": [],
   "source": [
    "def label_generalization(ids, general_labels):\n",
    "    generalized_ids = np.empty(0)\n",
    "    for id in ids:\n",
    "        generalized_ids = np.append(generalized_ids,\n",
    "                                    general_labels.loc[general_labels['ApplianceID'] == id, 'GeneralID'].unique()[0])\n",
    "    return generalized_ids\n",
    "\n",
    "\n",
    "def detect_day_events(dataframe, labels, general_tagging_info):\n",
    "    phases = [\"Phase1\", \"Phase2\"]\n",
    "    events_start = np.empty(0)\n",
    "    events_end = np.empty(0)\n",
    "    time_ticks = np.empty((2, len(dataframe)))\n",
    "    events = list()\n",
    "    i = 0\n",
    "\n",
    "    for phase in phases:\n",
    "        dataframe[phase + \"_eOn\"] = 0\n",
    "        dataframe[phase + \"_eOff\"] = 0\n",
    "        power = dataframe[phase + \"_actual\"]\n",
    "        time = dataframe[phase + \"_time\"]\n",
    "\n",
    "        events_start_temp, events_end_temp = calculate_events(power)\n",
    "        events.append(events_start_temp)\n",
    "        events_start = np.append(events_start, events_start_temp)\n",
    "        events_end = np.append(events_end, events_end_temp)\n",
    "        time_ticks[i] = time\n",
    "        i += 1\n",
    "\n",
    "    events_start, events_end, event_labels = extract_labeled_spikes(events_start, events_end, time_ticks, labels)\n",
    "    events_start, events_end, event_labels = remove_overlapping_events(events_start, events_end, event_labels)\n",
    "    event_labels = label_generalization(event_labels, general_tagging_info)\n",
    "\n",
    "    phase = \"Phase1\"\n",
    "    for index in range(events_start.size):\n",
    "        if events_start[index] in events[0]:\n",
    "            phase = \"Phase1\"\n",
    "        else:\n",
    "            phase = \"Phase2\"\n",
    "\n",
    "        dataframe.loc[events_start[index], phase + \"_eOn\"] = event_labels[index]\n",
    "        dataframe.loc[events_end[index], phase + \"_eOff\"] = event_labels[index]\n",
    "\n",
    "    return dataframe"
   ],
   "metadata": {
    "collapsed": false
   }
  },
  {
   "cell_type": "markdown",
   "source": [
    "### Edit dataframes to have events"
   ],
   "metadata": {
    "collapsed": false
   }
  },
  {
   "cell_type": "code",
   "execution_count": 7,
   "outputs": [],
   "source": [
    "general_labels = pd.read_csv(r\".\\dataset\\AllTaggingInfo_generalized.csv\")\n",
    "for index in range(len(data)):\n",
    "    data[index] = detect_day_events(data[index], all_tagging_info, general_labels)"
   ],
   "metadata": {
    "collapsed": false
   }
  },
  {
   "cell_type": "code",
   "execution_count": 8,
   "outputs": [
    {
     "name": "stdout",
     "output_type": "stream",
     "text": [
      "        Phase1_actual  Phase1_real  Phase1_img  Phase1_app   Phase1_time  \\\n",
      "0           19.430857    24.264125   18.475752   30.497560  1.334300e+09   \n",
      "1           19.924720    24.357135   17.474827   29.977318  1.334300e+09   \n",
      "2           19.690603    24.166927   17.523352   29.851436  1.334300e+09   \n",
      "3           19.910825    24.234800   17.153411   29.691161  1.334300e+09   \n",
      "4           20.829979    25.187723   17.446867   30.640081  1.334300e+09   \n",
      "...               ...          ...         ...         ...           ...   \n",
      "518938      19.939808    24.472770   17.732765   30.221969  1.334387e+09   \n",
      "518939      19.792885    24.371436   17.809936   30.185439  1.334387e+09   \n",
      "518940      20.446493    24.783498   17.294649   30.221295  1.334387e+09   \n",
      "518941      20.235556    24.840667   18.001915   30.677804  1.334387e+09   \n",
      "518942      19.618725    24.178684   17.711506   29.971757  1.334387e+09   \n",
      "\n",
      "        Phase2_actual  Phase2_real  Phase2_img  Phase2_app   Phase2_time  \\\n",
      "0           85.991295   120.168694 -118.877907  169.033937  1.334300e+09   \n",
      "1           85.805116   119.911703 -118.649932  168.690909  1.334300e+09   \n",
      "2           85.714063   119.935873 -118.966573  168.930930  1.334300e+09   \n",
      "3           85.494598   119.680443 -118.825656  168.650363  1.334300e+09   \n",
      "4           86.072731   120.257895 -118.927763  169.132416  1.334300e+09   \n",
      "...               ...          ...         ...         ...           ...   \n",
      "518938      86.780768   121.249157 -119.916436  170.532430  1.334387e+09   \n",
      "518939      87.182371   121.701655 -120.143478  171.013883  1.334387e+09   \n",
      "518940      87.425346   121.899392 -120.032952  171.077092  1.334387e+09   \n",
      "518941      86.774875   121.414595 -120.431602  171.012499  1.334387e+09   \n",
      "518942      87.208919   121.795380 -120.339691  171.218444  1.334387e+09   \n",
      "\n",
      "        Phase1_eOn  Phase1_eOff  Phase2_eOn  Phase2_eOff  \n",
      "0                0            0           0            0  \n",
      "1                0            0           0            0  \n",
      "2                0            0           0            0  \n",
      "3                0            0           0            0  \n",
      "4                0            0           0            0  \n",
      "...            ...          ...         ...          ...  \n",
      "518938           0            0           0            0  \n",
      "518939           0            0           0            0  \n",
      "518940           0            0           0            0  \n",
      "518941           0            0           0            0  \n",
      "518942           0            0           0            0  \n",
      "\n",
      "[518943 rows x 14 columns]\n"
     ]
    }
   ],
   "source": [
    "print(data[0])"
   ],
   "metadata": {
    "collapsed": false
   }
  },
  {
   "cell_type": "markdown",
   "source": [
    "# Now we need to process the data, so that it's in a format that we can give to the model\n"
   ],
   "metadata": {
    "collapsed": false
   }
  },
  {
   "cell_type": "markdown",
   "source": [
    "### Extract spikes"
   ],
   "metadata": {
    "collapsed": false
   }
  },
  {
   "cell_type": "code",
   "execution_count": 9,
   "outputs": [],
   "source": [
    "def get_index(expected, id):\n",
    "    for touple in expected:\n",
    "        if touple[0] == id:\n",
    "            return touple[1]\n",
    "\n",
    "    return 0\n",
    "\n",
    "\n",
    "def process_spike(real, imag, app, event_start, event_end, label):\n",
    "    window = 70\n",
    "    length = event_end - event_start + 1\n",
    "    labels = np.empty((length // window) + 1)\n",
    "    spike = np.empty((((length // window) + 1), 3, window))\n",
    "\n",
    "    for index in range(spike.shape[0] - 1):\n",
    "        spike_window = np.empty((3, window))\n",
    "        spike_window[0] = real[(event_start + window * index):(event_start + (window * (index + 1)))]\n",
    "        spike_window[1] = imag[(event_start + window * index):(event_start + (window * (index + 1)))]\n",
    "        spike_window[2] = app[(event_start + window * index):(event_start + (window * (index + 1)))]\n",
    "\n",
    "        spike[index] = spike_window\n",
    "        labels[index] = label\n",
    "\n",
    "    # Last window may be too short, so we add it here, making sure it's the correct length\n",
    "    spike_window = np.empty((3, window))\n",
    "    spike_window[0] = real[(event_end - window):event_end]\n",
    "    spike_window[1] = imag[(event_end - window):event_end]\n",
    "    spike_window[2] = app[(event_end - window):event_end]\n",
    "\n",
    "    spike[spike.shape[0] - 1] = spike_window\n",
    "    labels[spike.shape[0] - 1] = label\n",
    "\n",
    "    return spike, labels\n",
    "\n",
    "\n",
    "def extract_spikes(dataframe):\n",
    "    spikes = np.empty((0, 3, 70))\n",
    "    labels = np.empty(0)\n",
    "    expected1 = list()\n",
    "    expected2 = list()\n",
    "\n",
    "    for index in range(len(dataframe)):\n",
    "        row = dataframe.iloc[index]\n",
    "\n",
    "        if row[\"Phase1_eOff\"] != 0:\n",
    "            start = get_index(expected1, row[\"Phase1_eOff\"])\n",
    "            if start == 0:\n",
    "                continue\n",
    "            expected1.remove((row[\"Phase1_eOff\"], start))\n",
    "\n",
    "            real = dataframe[\"Phase1_real\"]\n",
    "            imag = dataframe[\"Phase1_img\"]\n",
    "            app = dataframe[\"Phase1_app\"]\n",
    "\n",
    "            spike, spike_label = process_spike(real, imag, app, start, index, row[\"Phase1_eOff\"])\n",
    "            spikes = np.vstack([spikes, spike])\n",
    "            labels = np.append(labels, spike_label)\n",
    "\n",
    "        if row[\"Phase2_eOff\"] != 0:\n",
    "            start = get_index(expected2, row[\"Phase2_eOff\"])\n",
    "            if start == 0:\n",
    "                continue\n",
    "            expected2.remove((row[\"Phase2_eOff\"], start))\n",
    "\n",
    "            real = dataframe[\"Phase2_real\"]\n",
    "            imag = dataframe[\"Phase2_img\"]\n",
    "            app = dataframe[\"Phase2_app\"]\n",
    "\n",
    "            spike, spike_label = process_spike(real, imag, app, start, index, row[\"Phase2_eOff\"])\n",
    "            spikes = np.vstack([spikes, spike])\n",
    "            labels = np.append(labels, spike_label)\n",
    "\n",
    "        if row[\"Phase1_eOn\"] != 0:\n",
    "            expected1.append((row[\"Phase1_eOn\"], index))\n",
    "\n",
    "        if row[\"Phase2_eOn\"] != 0:\n",
    "            expected2.append((row[\"Phase2_eOn\"], index))\n",
    "\n",
    "    return spikes, labels"
   ],
   "metadata": {
    "collapsed": false
   }
  },
  {
   "cell_type": "code",
   "execution_count": 10,
   "outputs": [],
   "source": [
    "spikes = np.empty((0, 3, 70))\n",
    "labels = np.empty(0)\n",
    "for index in range(len(data)):\n",
    "    day_spikes, day_labels = extract_spikes(data[index])\n",
    "    spikes = np.vstack([spikes, day_spikes])\n",
    "    labels = np.append(labels, day_labels)"
   ],
   "metadata": {
    "collapsed": false
   }
  },
  {
   "cell_type": "code",
   "execution_count": 15,
   "outputs": [
    {
     "name": "stderr",
     "output_type": "stream",
     "text": [
      "C:\\Users\\Paul\\PycharmProjects\\Sustainable-Energy-Behavior\\venv\\Lib\\site-packages\\sklearn\\preprocessing\\_encoders.py:975: FutureWarning: `sparse` was renamed to `sparse_output` in version 1.2 and will be removed in 1.4. `sparse_output` is ignored unless you leave `sparse` to its default value.\n",
      "  warnings.warn(\n"
     ]
    }
   ],
   "source": [
    "final_spikes = spikes.reshape(spikes.shape[0], -1)\n",
    "encoder = OneHotEncoder(sparse=False, categories=\"auto\")\n",
    "final_labels = encoder.fit_transform(np.array(labels).reshape(-1, 1))"
   ],
   "metadata": {
    "collapsed": false
   }
  },
  {
   "cell_type": "code",
   "execution_count": 16,
   "outputs": [
    {
     "name": "stdout",
     "output_type": "stream",
     "text": [
      "(10734, 210)\n",
      "(10734, 19)\n"
     ]
    }
   ],
   "source": [
    "print(final_spikes.shape)\n",
    "print(final_labels.shape)"
   ],
   "metadata": {
    "collapsed": false
   }
  },
  {
   "cell_type": "code",
   "execution_count": 23,
   "outputs": [],
   "source": [
    "train_X, test_X, train_y, test_y = train_test_split(final_spikes, final_labels, train_size=0.7, shuffle=True)"
   ],
   "metadata": {
    "collapsed": false
   }
  },
  {
   "cell_type": "markdown",
   "source": [
    "# Make the model"
   ],
   "metadata": {
    "collapsed": false
   }
  },
  {
   "cell_type": "code",
   "execution_count": 26,
   "outputs": [],
   "source": [
    "model = Sequential()\n",
    "model.add(Conv1D(filters=64, kernel_size=2, activation='relu', input_shape=(210, 1)))\n",
    "model.add(Conv1D(filters=32, kernel_size=3, activation='relu'))\n",
    "model.add(Conv1D(filters=16, kernel_size=3, activation='relu'))\n",
    "model.add(Flatten())\n",
    "model.add(Dense(256, activation=\"relu\"))\n",
    "model.add(Dense(128, activation=\"relu\"))\n",
    "model.add(Dense(64, activation=\"relu\"))\n",
    "model.add(Dense(19, activation=\"softmax\"))\n",
    "\n",
    "model.compile(loss=\"categorical_crossentropy\", optimizer=\"adam\", metrics=[\"accuracy\"])"
   ],
   "metadata": {
    "collapsed": false
   }
  },
  {
   "cell_type": "code",
   "execution_count": 27,
   "outputs": [
    {
     "name": "stdout",
     "output_type": "stream",
     "text": [
      "Epoch 1/50\n",
      "235/235 [==============================] - 9s 31ms/step - loss: 3.0130 - accuracy: 0.5550 - val_loss: 1.6335 - val_accuracy: 0.5964\n",
      "Epoch 2/50\n",
      "235/235 [==============================] - 7s 31ms/step - loss: 1.5815 - accuracy: 0.5781 - val_loss: 1.3647 - val_accuracy: 0.5942\n",
      "Epoch 3/50\n",
      "235/235 [==============================] - 7s 31ms/step - loss: 1.2509 - accuracy: 0.6071 - val_loss: 1.1788 - val_accuracy: 0.6628\n",
      "Epoch 4/50\n",
      "235/235 [==============================] - 7s 31ms/step - loss: 1.0647 - accuracy: 0.6640 - val_loss: 1.0694 - val_accuracy: 0.6858\n",
      "Epoch 5/50\n",
      "235/235 [==============================] - 7s 31ms/step - loss: 1.0039 - accuracy: 0.6744 - val_loss: 1.0770 - val_accuracy: 0.6647\n",
      "Epoch 6/50\n",
      "235/235 [==============================] - 7s 31ms/step - loss: 0.8764 - accuracy: 0.7180 - val_loss: 1.0092 - val_accuracy: 0.7206\n",
      "Epoch 7/50\n",
      "235/235 [==============================] - 7s 31ms/step - loss: 0.8024 - accuracy: 0.7389 - val_loss: 0.9881 - val_accuracy: 0.7314\n",
      "Epoch 8/50\n",
      "235/235 [==============================] - 7s 31ms/step - loss: 0.7575 - accuracy: 0.7492 - val_loss: 1.0357 - val_accuracy: 0.7314\n",
      "Epoch 9/50\n",
      "235/235 [==============================] - 7s 31ms/step - loss: 0.8874 - accuracy: 0.7193 - val_loss: 0.9423 - val_accuracy: 0.7367\n",
      "Epoch 10/50\n",
      "235/235 [==============================] - 7s 31ms/step - loss: 0.9325 - accuracy: 0.7085 - val_loss: 0.9271 - val_accuracy: 0.7305\n",
      "Epoch 11/50\n",
      "235/235 [==============================] - 7s 31ms/step - loss: 0.7770 - accuracy: 0.7365 - val_loss: 0.8821 - val_accuracy: 0.7367\n",
      "Epoch 12/50\n",
      "235/235 [==============================] - 7s 32ms/step - loss: 0.6841 - accuracy: 0.7715 - val_loss: 0.8656 - val_accuracy: 0.7454\n",
      "Epoch 13/50\n",
      "235/235 [==============================] - 7s 31ms/step - loss: 0.7717 - accuracy: 0.7431 - val_loss: 1.0054 - val_accuracy: 0.7075\n",
      "Epoch 14/50\n",
      "235/235 [==============================] - 7s 31ms/step - loss: 0.7197 - accuracy: 0.7584 - val_loss: 0.9193 - val_accuracy: 0.7429\n",
      "Epoch 15/50\n",
      "235/235 [==============================] - 7s 31ms/step - loss: 0.7360 - accuracy: 0.7655 - val_loss: 0.9657 - val_accuracy: 0.7318\n",
      "Epoch 16/50\n",
      "235/235 [==============================] - 7s 31ms/step - loss: 0.6789 - accuracy: 0.7696 - val_loss: 0.8631 - val_accuracy: 0.7644\n",
      "Epoch 17/50\n",
      "235/235 [==============================] - 8s 32ms/step - loss: 0.6498 - accuracy: 0.7783 - val_loss: 0.8976 - val_accuracy: 0.7585\n",
      "Epoch 18/50\n",
      "235/235 [==============================] - 7s 31ms/step - loss: 0.6370 - accuracy: 0.7869 - val_loss: 0.8979 - val_accuracy: 0.7507\n",
      "Epoch 19/50\n",
      "235/235 [==============================] - 7s 31ms/step - loss: 0.6175 - accuracy: 0.7902 - val_loss: 0.9584 - val_accuracy: 0.7665\n",
      "Epoch 20/50\n",
      "235/235 [==============================] - 7s 30ms/step - loss: 0.5960 - accuracy: 0.7946 - val_loss: 0.9183 - val_accuracy: 0.7805\n",
      "Epoch 21/50\n",
      "235/235 [==============================] - 7s 30ms/step - loss: 0.5922 - accuracy: 0.7948 - val_loss: 0.9024 - val_accuracy: 0.7538\n",
      "Epoch 22/50\n",
      "235/235 [==============================] - 7s 30ms/step - loss: 0.5691 - accuracy: 0.8086 - val_loss: 0.9030 - val_accuracy: 0.7765\n",
      "Epoch 23/50\n",
      "235/235 [==============================] - 7s 31ms/step - loss: 0.5642 - accuracy: 0.8062 - val_loss: 0.9302 - val_accuracy: 0.7907\n",
      "Epoch 24/50\n",
      "235/235 [==============================] - 7s 30ms/step - loss: 0.5637 - accuracy: 0.8057 - val_loss: 0.8310 - val_accuracy: 0.7973\n",
      "Epoch 25/50\n",
      "235/235 [==============================] - 7s 30ms/step - loss: 0.5419 - accuracy: 0.8107 - val_loss: 0.9275 - val_accuracy: 0.7830\n",
      "Epoch 26/50\n",
      "235/235 [==============================] - 7s 30ms/step - loss: 0.5643 - accuracy: 0.8053 - val_loss: 0.8297 - val_accuracy: 0.7861\n",
      "Epoch 27/50\n",
      "235/235 [==============================] - 7s 31ms/step - loss: 0.5505 - accuracy: 0.8098 - val_loss: 0.8486 - val_accuracy: 0.7960\n",
      "Epoch 28/50\n",
      "235/235 [==============================] - 7s 30ms/step - loss: 0.5425 - accuracy: 0.8118 - val_loss: 0.8097 - val_accuracy: 0.8106\n",
      "Epoch 29/50\n",
      "235/235 [==============================] - 7s 30ms/step - loss: 0.5145 - accuracy: 0.8210 - val_loss: 0.8281 - val_accuracy: 0.7951\n",
      "Epoch 30/50\n",
      "235/235 [==============================] - 7s 30ms/step - loss: 0.4961 - accuracy: 0.8274 - val_loss: 0.8143 - val_accuracy: 0.8109\n",
      "Epoch 31/50\n",
      "235/235 [==============================] - 7s 30ms/step - loss: 0.4956 - accuracy: 0.8248 - val_loss: 0.9511 - val_accuracy: 0.7932\n",
      "Epoch 32/50\n",
      "235/235 [==============================] - 7s 30ms/step - loss: 0.4915 - accuracy: 0.8260 - val_loss: 0.8833 - val_accuracy: 0.7979\n",
      "Epoch 33/50\n",
      "235/235 [==============================] - 7s 30ms/step - loss: 0.4675 - accuracy: 0.8318 - val_loss: 0.9082 - val_accuracy: 0.8081\n",
      "Epoch 34/50\n",
      "235/235 [==============================] - 7s 31ms/step - loss: 0.4866 - accuracy: 0.8290 - val_loss: 0.8278 - val_accuracy: 0.8125\n",
      "Epoch 35/50\n",
      "235/235 [==============================] - 7s 30ms/step - loss: 0.4872 - accuracy: 0.8310 - val_loss: 0.8893 - val_accuracy: 0.8171\n",
      "Epoch 36/50\n",
      "235/235 [==============================] - 8s 34ms/step - loss: 0.4784 - accuracy: 0.8320 - val_loss: 0.9670 - val_accuracy: 0.7824\n",
      "Epoch 37/50\n",
      "235/235 [==============================] - 7s 30ms/step - loss: 0.4761 - accuracy: 0.8263 - val_loss: 0.9504 - val_accuracy: 0.8147\n",
      "Epoch 38/50\n",
      "235/235 [==============================] - 9s 37ms/step - loss: 0.4663 - accuracy: 0.8364 - val_loss: 0.9027 - val_accuracy: 0.8215\n",
      "Epoch 39/50\n",
      "235/235 [==============================] - 8s 35ms/step - loss: 0.4517 - accuracy: 0.8423 - val_loss: 0.9267 - val_accuracy: 0.8103\n",
      "Epoch 40/50\n",
      "235/235 [==============================] - 8s 34ms/step - loss: 0.4331 - accuracy: 0.8420 - val_loss: 0.9438 - val_accuracy: 0.8147\n",
      "Epoch 41/50\n",
      "235/235 [==============================] - 8s 33ms/step - loss: 0.4093 - accuracy: 0.8545 - val_loss: 0.9801 - val_accuracy: 0.8140\n",
      "Epoch 42/50\n",
      "235/235 [==============================] - 8s 32ms/step - loss: 0.4348 - accuracy: 0.8444 - val_loss: 1.0125 - val_accuracy: 0.8119\n",
      "Epoch 43/50\n",
      "235/235 [==============================] - 8s 32ms/step - loss: 0.4062 - accuracy: 0.8512 - val_loss: 1.0936 - val_accuracy: 0.8075\n",
      "Epoch 44/50\n",
      "235/235 [==============================] - 8s 32ms/step - loss: 0.4178 - accuracy: 0.8453 - val_loss: 1.0417 - val_accuracy: 0.8069\n",
      "Epoch 45/50\n",
      "235/235 [==============================] - 7s 31ms/step - loss: 0.4236 - accuracy: 0.8433 - val_loss: 0.9705 - val_accuracy: 0.8302\n",
      "Epoch 46/50\n",
      "235/235 [==============================] - 7s 31ms/step - loss: 0.4042 - accuracy: 0.8597 - val_loss: 0.9711 - val_accuracy: 0.8137\n",
      "Epoch 47/50\n",
      "235/235 [==============================] - 7s 31ms/step - loss: 0.4228 - accuracy: 0.8520 - val_loss: 0.9351 - val_accuracy: 0.8209\n",
      "Epoch 48/50\n",
      "235/235 [==============================] - 7s 30ms/step - loss: 0.3794 - accuracy: 0.8604 - val_loss: 1.0281 - val_accuracy: 0.8296\n",
      "Epoch 49/50\n",
      "235/235 [==============================] - 7s 30ms/step - loss: 0.3881 - accuracy: 0.8642 - val_loss: 1.0378 - val_accuracy: 0.8330\n",
      "Epoch 50/50\n",
      "235/235 [==============================] - 7s 30ms/step - loss: 0.3857 - accuracy: 0.8618 - val_loss: 1.0902 - val_accuracy: 0.8324\n"
     ]
    },
    {
     "data": {
      "text/plain": "<keras.src.callbacks.History at 0x1f69272dd90>"
     },
     "execution_count": 27,
     "metadata": {},
     "output_type": "execute_result"
    }
   ],
   "source": [
    "model.fit(train_X, train_y, epochs=50, batch_size=32, validation_data=(test_X, test_y))"
   ],
   "metadata": {
    "collapsed": false
   }
  },
  {
   "cell_type": "markdown",
   "source": [
    "# Test the model"
   ],
   "metadata": {
    "collapsed": false
   }
  },
  {
   "cell_type": "markdown",
   "source": [
    "### Get a day"
   ],
   "metadata": {
    "collapsed": false
   }
  },
  {
   "cell_type": "code",
   "execution_count": 30,
   "outputs": [],
   "source": [
    "file_path_volts1 = r\".\\dataset\\H1\\Tagged_Training_12_27_1356595201\\LF1V.csv\"\n",
    "file_path_amps1 = r\".\\dataset\\H1\\Tagged_Training_12_27_1356595201\\LF1I.csv\"\n",
    "file_path_time_ticks1 = r\".\\dataset\\H1\\Tagged_Training_12_27_1356595201\\TimeTicks1.csv\"\n",
    "\n",
    "file_path_volts2 = r\".\\dataset\\H1\\Tagged_Training_12_27_1356595201\\LF2V.csv\"\n",
    "file_path_amps2 = r\".\\dataset\\H1\\Tagged_Training_12_27_1356595201\\LF2I.csv\"\n",
    "file_path_time_ticks2 = r\".\\dataset\\H1\\Tagged_Training_12_27_1356595201\\TimeTicks2.csv\"\n",
    "\n",
    "LF1V = pd.read_csv(file_path_volts1)\n",
    "LF1I = pd.read_csv(file_path_amps1)\n",
    "time_ticks1 = pd.read_csv(file_path_time_ticks1)\n",
    "\n",
    "LF2V = pd.read_csv(file_path_volts2)\n",
    "LF2I = pd.read_csv(file_path_amps2)\n",
    "time_ticks2 = pd.read_csv(file_path_time_ticks2)"
   ],
   "metadata": {
    "collapsed": false
   }
  },
  {
   "cell_type": "code",
   "execution_count": 31,
   "outputs": [],
   "source": [
    "LF1V = np.array(LF1V)\n",
    "LF1I = np.array(LF1I)\n",
    "LF1V = np.array([[complex(y.replace(\"i\", \"j\")) for y in x] for x in LF1V])\n",
    "LF1I = np.array([[complex(y.replace(\"i\", \"j\")) for y in x] for x in LF1I])\n",
    "\n",
    "LF2V = np.array(LF2V)\n",
    "LF2I = np.array(LF2I)\n",
    "LF2V = np.array([[complex(y.replace(\"i\", \"j\")) for y in x] for x in LF2V])\n",
    "LF2I = np.array([[complex(y.replace(\"i\", \"j\")) for y in x] for x in LF2I])"
   ],
   "metadata": {
    "collapsed": false
   }
  },
  {
   "cell_type": "code",
   "execution_count": 33,
   "outputs": [],
   "source": [
    "L1_P = LF1V * np.conjugate(LF1I)\n",
    "L2_P = LF2V * np.conjugate(LF2I)\n",
    "\n",
    "L1_ComplexPower = np.sum(L1_P, axis=1)\n",
    "L2_ComplexPower = np.sum(L2_P, axis=1)\n",
    "\n",
    "L1_real = np.real(L1_ComplexPower)\n",
    "L1_imag = np.imag(L1_ComplexPower)\n",
    "L1_app = np.abs(L1_ComplexPower)\n",
    "\n",
    "L2_real = np.real(L2_ComplexPower)\n",
    "L2_imag = np.imag(L2_ComplexPower)\n",
    "L2_app = np.abs(L2_ComplexPower)\n",
    "\n",
    "L1_Pf = np.cos(np.angle(L1_P[:, 0]))\n",
    "L2_Pf = np.cos(np.angle(L2_P[:, 0]))\n",
    "\n",
    "L1_actual_power = L1_real * L1_Pf\n",
    "L2_actual_power = L2_real * L2_Pf"
   ],
   "metadata": {
    "collapsed": false
   }
  },
  {
   "cell_type": "code",
   "execution_count": 34,
   "outputs": [],
   "source": [
    "time_ticks1_datetime = pd.to_datetime(time_ticks1.iloc[:, 0], unit='s')\n",
    "time_ticks1_np = np.array(time_ticks1)\n",
    "TS1_real = np.array(time_ticks1_datetime)\n",
    "\n",
    "time_ticks2_datetime = pd.to_datetime(time_ticks2.iloc[:, 0], unit='s')\n",
    "time_ticks2_np = np.array(time_ticks2)\n",
    "TS2_real = np.array(time_ticks2_datetime)"
   ],
   "metadata": {
    "collapsed": false
   }
  },
  {
   "cell_type": "code",
   "execution_count": 35,
   "outputs": [],
   "source": [
    "test = pd.DataFrame()\n",
    "len = min(len(L1_actual_power), len(L2_actual_power))\n",
    "\n",
    "test[\"Phase1_actual\"] = L1_actual_power[:len]\n",
    "test[\"Phase1_real\"] = L1_real[:len]\n",
    "test[\"Phase1_img\"] = L1_imag[:len]\n",
    "test[\"Phase1_app\"] = L1_app[:len]\n",
    "test[\"Phase1_time\"] = time_ticks1_np[:len]\n",
    "\n",
    "test[\"Phase2_actual\"] = L2_actual_power[:len]\n",
    "test[\"Phase2_real\"] = L2_real[:len]\n",
    "test[\"Phase2_img\"] = L2_imag[:len]\n",
    "test[\"Phase2_app\"] = L2_app[:len]\n",
    "test[\"Phase2_time\"] = time_ticks2_np[:len]"
   ],
   "metadata": {
    "collapsed": false
   }
  },
  {
   "cell_type": "code",
   "execution_count": 36,
   "outputs": [],
   "source": [
    "phases = [\"Phase1\", \"Phase2\"]\n",
    "events_start = np.empty(0)\n",
    "events_end = np.empty(0)\n",
    "events = list()\n",
    "\n",
    "for phase in phases:\n",
    "    test[phase + \"_eOn\"] = 0\n",
    "    test[phase + \"_eOff\"] = 0\n",
    "    power = test[phase + \"_actual\"]\n",
    "    time = test[phase + \"_time\"]\n",
    "\n",
    "    events_start_temp, events_end_temp = calculate_events(power)\n",
    "    events.append(events_start_temp)\n",
    "    events_start = np.append(events_start, events_start_temp)\n",
    "    events_end = np.append(events_end, events_end_temp)\n",
    "\n",
    "events_start, events_end, event_labels = remove_overlapping_events(events_start, events_end,\n",
    "                                                                   np.empty(events_start.shape))\n",
    "\n",
    "phase = \"Phase1\"\n",
    "for index in range(events_start.size):\n",
    "    if events_start[index] in events[0]:\n",
    "        phase = \"Phase1\"\n",
    "    else:\n",
    "        phase = \"Phase2\"\n",
    "\n",
    "    test.loc[events_start[index], phase + \"_eOn\"] = event_labels[index]\n",
    "    test.loc[events_end[index], phase + \"_eOff\"] = event_labels[index]"
   ],
   "metadata": {
    "collapsed": false
   }
  },
  {
   "cell_type": "code",
   "execution_count": 45,
   "outputs": [],
   "source": [
    "def get_index(expected, id):\n",
    "    for touple in expected:\n",
    "        if touple[0] == id:\n",
    "            return touple[1]\n",
    "\n",
    "    return 0\n",
    "\n",
    "\n",
    "def process_spike_verification(real, imag, app, event_start, event_end):\n",
    "    window = 70\n",
    "    length = event_end - event_start + 1\n",
    "    spike = np.empty((((length // window) + 1), 3, window))\n",
    "\n",
    "    for index in range(spike.shape[0] - 1):\n",
    "        spike_window = np.empty((3, window))\n",
    "        spike_window[0] = real[(event_start + window * index):(event_start + (window * (index + 1)))]\n",
    "        spike_window[1] = imag[(event_start + window * index):(event_start + (window * (index + 1)))]\n",
    "        spike_window[2] = app[(event_start + window * index):(event_start + (window * (index + 1)))]\n",
    "\n",
    "        spike[index] = spike_window\n",
    "\n",
    "    # Last window may be too short, so we add it here, making sure it's the correct length\n",
    "    spike_window = np.empty((3, window))\n",
    "    spike_window[0] = real[(event_end - window):event_end]\n",
    "    spike_window[1] = imag[(event_end - window):event_end]\n",
    "    spike_window[2] = app[(event_end - window):event_end]\n",
    "\n",
    "    spike[spike.shape[0] - 1] = spike_window\n",
    "\n",
    "    return spike\n",
    "\n",
    "spikes = np.empty((0, 3, 70))\n",
    "expected1 = list()\n",
    "expected2 = list()\n",
    "\n",
    "for index in range(test.shape[0]):\n",
    "    row = test.iloc[index]\n",
    "\n",
    "    if row[\"Phase1_eOff\"] != 0:\n",
    "        start = get_index(expected1, row[\"Phase1_eOff\"])\n",
    "        if start == 0:\n",
    "            continue\n",
    "        expected1.remove((row[\"Phase1_eOff\"], start))\n",
    "\n",
    "        real = test[\"Phase1_real\"]\n",
    "        imag = test[\"Phase1_img\"]\n",
    "        app = test[\"Phase1_app\"]\n",
    "\n",
    "        spike = process_spike_verification(real, imag, app, start, index)\n",
    "        spikes = np.vstack([spikes, spike])\n",
    "\n",
    "    if row[\"Phase2_eOff\"] != 0:\n",
    "        start = get_index(expected2, row[\"Phase2_eOff\"])\n",
    "        if start == 0:\n",
    "            continue\n",
    "        expected2.remove((row[\"Phase2_eOff\"], start))\n",
    "\n",
    "        real = test[\"Phase2_real\"]\n",
    "        imag = test[\"Phase2_img\"]\n",
    "        app = test[\"Phase2_app\"]\n",
    "\n",
    "        spike = process_spike_verification(real, imag, app, start, index)\n",
    "        spikes = np.vstack([spikes, spike])\n",
    "\n",
    "    if row[\"Phase1_eOn\"] != 0:\n",
    "        expected1.append((row[\"Phase1_eOn\"], index))\n",
    "\n",
    "    if row[\"Phase2_eOn\"] != 0:\n",
    "        expected2.append((row[\"Phase2_eOn\"], index))"
   ],
   "metadata": {
    "collapsed": false
   }
  },
  {
   "cell_type": "code",
   "execution_count": 46,
   "outputs": [
    {
     "name": "stdout",
     "output_type": "stream",
     "text": [
      "(2198, 3, 70)\n"
     ]
    }
   ],
   "source": [
    "print(spikes.shape)"
   ],
   "metadata": {
    "collapsed": false
   }
  },
  {
   "cell_type": "code",
   "execution_count": 48,
   "outputs": [
    {
     "name": "stdout",
     "output_type": "stream",
     "text": [
      "(2198, 210)\n"
     ]
    }
   ],
   "source": [
    "final_spikes = spikes.reshape(spikes.shape[0], -1)\n",
    "print(final_spikes.shape)"
   ],
   "metadata": {
    "collapsed": false
   }
  },
  {
   "cell_type": "code",
   "execution_count": 49,
   "outputs": [
    {
     "name": "stdout",
     "output_type": "stream",
     "text": [
      "69/69 [==============================] - 0s 4ms/step\n"
     ]
    }
   ],
   "source": [
    "predictions = model.predict(final_spikes)"
   ],
   "metadata": {
    "collapsed": false
   }
  },
  {
   "cell_type": "code",
   "execution_count": 56,
   "outputs": [
    {
     "name": "stdout",
     "output_type": "stream",
     "text": [
      "(2198,)\n",
      "(91,)\n"
     ]
    }
   ],
   "source": [
    "actual_pred = np.empty(predictions.shape[0])\n",
    "for index in range(predictions.shape[0]):\n",
    "    actual_pred[index] = np.argmax(predictions[index])\n",
    "print(actual_pred.shape)\n",
    "print(events_start.shape)"
   ],
   "metadata": {
    "collapsed": false
   }
  },
  {
   "cell_type": "code",
   "execution_count": null,
   "outputs": [],
   "source": [
    "window = 70\n",
    "num_windows = np.empty(events_start.shape)\n",
    "for index in range(events_start.size):\n",
    "    length = events_end[index] - events_start[index] + 1\n",
    "    num_windows[index] = (length // window) + 1\n",
    "\n",
    "event_prediction = np.empty(events_start.shape)\n",
    "i = 0\n",
    "for index in range(num_windows.size):\n",
    "    cur_index = num_windows[index]\n",
    "    for prediction in range(i, i + cur_index):\n"
   ],
   "metadata": {
    "collapsed": false
   }
  },
  {
   "cell_type": "markdown",
   "source": [
    "# Visualize test"
   ],
   "metadata": {
    "collapsed": false
   }
  },
  {
   "cell_type": "code",
   "execution_count": null,
   "outputs": [],
   "source": [
    "L1 = test[\"Phase1_actual\"]\n",
    "L2 = test[\"Phase2_actual\"]\n"
   ],
   "metadata": {
    "collapsed": false
   }
  }
 ],
 "metadata": {
  "kernelspec": {
   "display_name": "Python 3",
   "language": "python",
   "name": "python3"
  },
  "language_info": {
   "codemirror_mode": {
    "name": "ipython",
    "version": 2
   },
   "file_extension": ".py",
   "mimetype": "text/x-python",
   "name": "python",
   "nbconvert_exporter": "python",
   "pygments_lexer": "ipython2",
   "version": "2.7.6"
  }
 },
 "nbformat": 4,
 "nbformat_minor": 0
}
